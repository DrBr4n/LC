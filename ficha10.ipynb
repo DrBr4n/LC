{
  "cells": [
    {
      "cell_type": "markdown",
      "id": "a52c3fc9",
      "metadata": {
        "id": "a52c3fc9"
      },
      "source": [
        "# FOTS e SFOTS - Uma implementação alternativa\n",
        "\n",
        "Nas últimas aulas estudamos várias técnicas para verificação de propriedades de sistemas dinâmicos (caracterizados por um estado que evolui ao longo do tempo), sendo o sistema dinâmico modelado por um *First-Order Transition System (FOTS)*. Mais concretamente, estudamos\n",
        "- a técnica de *Bounded Model Checking*, para verificar se uma propriedade é válida num FOTS considerando apenas um número limitado de estados de execução.\n",
        "- a técnica de *K-indução*, para verificar propriedades para qualquer execução não limitada do FOTS;\n",
        "- o caso específico dos *Safe FOTS* (que incluem a propriedade de segurança na formulação do sistema, agregando um predicado que determina os estados de erro) e um algoritmo de \"model checking\" que recorre às noções de interpolante e invariante para tentar provar a inacessibilidade dos estados de erro.\n",
        "\n",
        "\n",
        "A implementação das várias técnicas foi sempre sustentada em funções de ordem superior que recebem como parâmetros a função que faz a \"clonagem\" do estado, e as funções que geram os predicados que caracterizam os estados iniciais, a relação de transição e os estados de erro.\n",
        "\n",
        "\n",
        "Nesta aula queremos que revisite todas estas técnicas para fazer agora uma implementação alternativa recorrendo ao mecanismo de classes do Python."
      ]
    },
    {
      "cell_type": "markdown",
      "id": "4cd6ed16",
      "metadata": {
        "id": "4cd6ed16"
      },
      "source": [
        "###  Exercício 1\n",
        "\n",
        "O seguinte código inicia a definição da classe FOTS. Complete a definição da classe implementando os métodos em falta. Pode acrescentar e alterar o que achar conveniente."
      ]
    },
    {
      "cell_type": "code",
      "execution_count": null,
      "id": "7a31dd0e",
      "metadata": {
        "id": "7a31dd0e",
        "colab": {
          "base_uri": "https://localhost:8080/"
        },
        "outputId": "79b70157-6140-43a5-bef9-642330515866"
      },
      "outputs": [
        {
          "output_type": "stream",
          "name": "stdout",
          "text": [
            "Looking in indexes: https://pypi.org/simple, https://us-python.pkg.dev/colab-wheels/public/simple/\n",
            "Requirement already satisfied: pysmt in /usr/local/lib/python3.8/dist-packages (0.9.5)\n"
          ]
        }
      ],
      "source": [
        "!pip install pysmt\n",
        "import pysmt.shortcuts \n",
        "import pysmt.typing \n",
        "\n",
        "\n",
        "# função que cria a \"próxima variável\" no sistema de transição\n",
        "def following(x):\n",
        "\treturn Symbol(f'{x.symbol_name()}_', x.symbol_type())\n",
        "\n",
        "# função que cria um clone de uma variável para um determinado step\n",
        "def next_(x, step):\n",
        "\treturn Symbol(f\"{x.symbol_name()}{step}\", x.symbol_type())\n",
        "\n",
        "# classe que representa um FOTS\n",
        "class FOTS:\n",
        "\n",
        "    def __init__(self, label, variables, init, trans):\n",
        "        \"\"\"\n",
        "        Construtor do FOTS\n",
        "        \n",
        "        Parâmetros:\n",
        "            - label : indica o nome do conjunto das variáveis pertencentes a este FOTS.\n",
        "                      De acordo com os apontamentos, seria equivalente a 'X'.\n",
        "            \n",
        "            - variables: uma lista que representa o conjunto das variáveis do FOTS.\n",
        "                         Ao ser construído, o FOTS transforma todas as variáveis deste conjunto\n",
        "                         num clone com a label atrás. Por exemplo, se passarmos  a label 'X' e o conjunto [z, pc],\n",
        "                         o que o FOTS guarda é o conjunto [X_z, X_pc]\n",
        "            \n",
        "            - init: Predicado do estado inicial. Assume-se que usa um subconjunto das variáveis do FOTS.\n",
        "                    O FOTS faz automaticamente a conversão das variáveis para a versão com label.\n",
        "\n",
        "            - trans: Predicado da relação de transição. Assume-se que usa um subconjunto das variáveis do FOTS, e \n",
        "                     faz uso da função de following.\n",
        "                     O FOTS faz automaticamente a conversão das variáveis para a versão com label.\n",
        "        \"\"\"\n",
        "\n",
        "        self.label = label\n",
        "\n",
        "        self.create_variables(variables)\t\n",
        "        self.create_init(variables, init)\n",
        "        self.create_trans(variables, trans)\n",
        "\n",
        "\n",
        "    def create_variables(self, variables):\n",
        "        self.variables = [ Symbol(f'{self.label}_{v.symbol_name()}', v.symbol_type()) for v in variables ]\n",
        "\n",
        "        self.original_variables = variables\n",
        "\n",
        "    def create_init(self, variables, init):\n",
        "        self.init = init.substitute( { variables[i]: self.variables[i] for i in range(len(variables)) } )\n",
        "\n",
        "        self.original_init = init\n",
        "\n",
        "\n",
        "    def create_trans(self, variables, trans):\n",
        "        subs = { variables[i]: self.variables[i] for i in range(len(variables)) }\n",
        "        for v in variables:\n",
        "            v = following(v)\n",
        "            subs[v] = Symbol(f'{self.label}_{v.symbol_name()}', v.symbol_type())\n",
        "\n",
        "        self.trans = trans.substitute(subs)\n",
        "        self.original_trans = trans\n",
        "\n",
        "\n",
        "    # função que retorna um dicionário de substituições com os clones de um determinado estado\n",
        "    def get_substitutes(self, i):\n",
        "        subs = {}\n",
        "        for v in self.variables:\n",
        "            subs[v] = next_(v, i)\n",
        "            subs[following(v)] = next_(v, i+1)\n",
        "        return subs\n",
        "\n",
        "    def get_substitutesv2(self, i):\n",
        "        return {v: next_(v, i) for v in self.variables} | {following(v) : next_(v, i) for v in self.variables}\n",
        "        \n",
        "    def get_vars(self, i):\n",
        "        return [next_(v, i) for v in self.variables]\n",
        "\n",
        "    # função que retorna o estado inicial do FOTS\n",
        "    def get_init(self):\n",
        "        subs = self.get_substitutes(0)\n",
        "        return self.init.substitute(subs)\n",
        "\n",
        "    # função que retorna o predicado de transição num certo estado\n",
        "    def get_trans(self, state):\n",
        "        subs = self.get_substitutes(state)\n",
        "        return self.trans.substitute(subs)\n",
        "\n",
        "    # função que returna a expansão do predicado de transição para k passos\n",
        "    def expand_trans(self, k):\n",
        "        # T(0,1) /\\ ... /\\ T(k-1, k)\n",
        "        return And([self.get_trans(i) for i in range(k)])\n",
        "\n",
        "\n",
        "    # Funções para propriedades\n",
        "\n",
        "    # função que recebe uma propriedade e muda as variáveis para a sua versão com label\n",
        "    def parse_prop(self, prop):\n",
        "        subs = { v: Symbol(f'{self.label}_{v.symbol_name()}', v.symbol_type()) for v in prop.get_free_variables() }\n",
        "\n",
        "        return prop.substitute(subs)\n",
        "\n",
        "    # função que retorna uma propriedade num certo estado\n",
        "    def get_prop(self, prop, state):\n",
        "        subs = self.get_substitutes(state)\n",
        "        return prop.substitute(subs)\n",
        "\n",
        "    # função que expande uma propriedade para k passos\n",
        "    def expand_prop(self, prop, k):\n",
        "        # P(0) /\\ P(1) /\\ ... /\\ P(k) \n",
        "        return And([self.get_prop(prop, i) for i in range(k+1)])       \n",
        "\n",
        "\n",
        "    def check_property(self, prop, k):\n",
        "        prop = self.parse_prop(prop)\n",
        "        return self.k_induction(prop, k)\n",
        "\n",
        "\n",
        "    def k_induction(self, prop, k):\n",
        "        I = self.get_init()\n",
        "        Tk_1 = self.expand_trans(k-1)\n",
        "        Pk_1 = self.expand_prop(prop, k-1)\n",
        "\n",
        "        r = is_sat(And(I, Tk_1, Not(Pk_1)))\n",
        "        if r: print(\"Invalid property\")\n",
        "        Pk = self.expand_prop(prop, k-1)\n",
        "        Tk = self.expand_trans(k)\n",
        "        Pk1 = self.expand_prop(prop, k)\n",
        "\n",
        "        r = get_model(And(Pk, Tk, Not(Pk1)))\n",
        "        if r: \n",
        "            print(r)\n",
        "            print(\"Invalid property\")\n"
      ]
    },
    {
      "cell_type": "markdown",
      "source": [
        "#Exemplo\n",
        "\n",
        "```Python\n",
        "{ z >= 3 } \n",
        "while (z > 0): \n",
        "    z = z - 1\n",
        "stop\n",
        "```"
      ],
      "metadata": {
        "id": "It9YNbnxpvIV"
      },
      "id": "It9YNbnxpvIV"
    },
    {
      "cell_type": "code",
      "source": [
        "z = Symbol('z', INT)\n",
        "pc = Symbol('pc', INT)\n",
        "\n",
        "init = And(Equals(pc, Int(0)), GE(z, Int(3)))\n",
        "\n",
        "trans = Or(\n",
        "    And(Equals(pc, Int(0)), GT(z, Int(0)), Equals(following(pc), Int(1)), Equals(following(z), z)),\n",
        "    And(Equals(pc, Int(0)), LE(z, Int(0)), Equals(following(pc), Int(2)), Equals(following(z), z)),\n",
        "    And(Equals(pc, Int(1)), Equals(following(pc), Int(0)), Equals(following(z), z-1)),\n",
        "    And(Equals(pc, Int(2)), Equals(following(pc), Int(2)), Equals(following(z), z))\n",
        ")\n",
        "\n",
        "f = FOTS('X', [pc, z], init, trans)\n",
        "\n",
        "non_negative = z >= 0\n",
        "\n",
        "f.check_property(non_negative, 10)"
      ],
      "metadata": {
        "colab": {
          "base_uri": "https://localhost:8080/",
          "height": 346
        },
        "id": "i84NebvPn-g0",
        "outputId": "98507537-6563-4f88-a1ab-18159a943ecb"
      },
      "id": "i84NebvPn-g0",
      "execution_count": null,
      "outputs": [
        {
          "output_type": "error",
          "ename": "NoSolverAvailableError",
          "evalue": "ignored",
          "traceback": [
            "\u001b[0;31m---------------------------------------------------------------------------\u001b[0m",
            "\u001b[0;31mNoSolverAvailableError\u001b[0m                    Traceback (most recent call last)",
            "\u001b[0;32m<ipython-input-14-b74919ed7cfc>\u001b[0m in \u001b[0;36m<module>\u001b[0;34m\u001b[0m\n\u001b[1;32m     15\u001b[0m \u001b[0mnon_negative\u001b[0m \u001b[0;34m=\u001b[0m \u001b[0mz\u001b[0m \u001b[0;34m>=\u001b[0m \u001b[0;36m0\u001b[0m\u001b[0;34m\u001b[0m\u001b[0;34m\u001b[0m\u001b[0m\n\u001b[1;32m     16\u001b[0m \u001b[0;34m\u001b[0m\u001b[0m\n\u001b[0;32m---> 17\u001b[0;31m \u001b[0mf\u001b[0m\u001b[0;34m.\u001b[0m\u001b[0mcheck_property\u001b[0m\u001b[0;34m(\u001b[0m\u001b[0mnon_negative\u001b[0m\u001b[0;34m,\u001b[0m \u001b[0;36m10\u001b[0m\u001b[0;34m)\u001b[0m\u001b[0;34m\u001b[0m\u001b[0;34m\u001b[0m\u001b[0m\n\u001b[0m",
            "\u001b[0;32m<ipython-input-13-7e9627b5bf30>\u001b[0m in \u001b[0;36mcheck_property\u001b[0;34m(self, prop, k)\u001b[0m\n\u001b[1;32m    116\u001b[0m     \u001b[0;32mdef\u001b[0m \u001b[0mcheck_property\u001b[0m\u001b[0;34m(\u001b[0m\u001b[0mself\u001b[0m\u001b[0;34m,\u001b[0m \u001b[0mprop\u001b[0m\u001b[0;34m,\u001b[0m \u001b[0mk\u001b[0m\u001b[0;34m)\u001b[0m\u001b[0;34m:\u001b[0m\u001b[0;34m\u001b[0m\u001b[0;34m\u001b[0m\u001b[0m\n\u001b[1;32m    117\u001b[0m         \u001b[0mprop\u001b[0m \u001b[0;34m=\u001b[0m \u001b[0mself\u001b[0m\u001b[0;34m.\u001b[0m\u001b[0mparse_prop\u001b[0m\u001b[0;34m(\u001b[0m\u001b[0mprop\u001b[0m\u001b[0;34m)\u001b[0m\u001b[0;34m\u001b[0m\u001b[0;34m\u001b[0m\u001b[0m\n\u001b[0;32m--> 118\u001b[0;31m         \u001b[0;32mreturn\u001b[0m \u001b[0mself\u001b[0m\u001b[0;34m.\u001b[0m\u001b[0mk_induction\u001b[0m\u001b[0;34m(\u001b[0m\u001b[0mprop\u001b[0m\u001b[0;34m,\u001b[0m \u001b[0mk\u001b[0m\u001b[0;34m)\u001b[0m\u001b[0;34m\u001b[0m\u001b[0;34m\u001b[0m\u001b[0m\n\u001b[0m\u001b[1;32m    119\u001b[0m \u001b[0;34m\u001b[0m\u001b[0m\n\u001b[1;32m    120\u001b[0m \u001b[0;34m\u001b[0m\u001b[0m\n",
            "\u001b[0;32m<ipython-input-13-7e9627b5bf30>\u001b[0m in \u001b[0;36mk_induction\u001b[0;34m(self, prop, k)\u001b[0m\n\u001b[1;32m    124\u001b[0m         \u001b[0mPk_1\u001b[0m \u001b[0;34m=\u001b[0m \u001b[0mself\u001b[0m\u001b[0;34m.\u001b[0m\u001b[0mexpand_prop\u001b[0m\u001b[0;34m(\u001b[0m\u001b[0mprop\u001b[0m\u001b[0;34m,\u001b[0m \u001b[0mk\u001b[0m\u001b[0;34m-\u001b[0m\u001b[0;36m1\u001b[0m\u001b[0;34m)\u001b[0m\u001b[0;34m\u001b[0m\u001b[0;34m\u001b[0m\u001b[0m\n\u001b[1;32m    125\u001b[0m \u001b[0;34m\u001b[0m\u001b[0m\n\u001b[0;32m--> 126\u001b[0;31m         \u001b[0mr\u001b[0m \u001b[0;34m=\u001b[0m \u001b[0mis_sat\u001b[0m\u001b[0;34m(\u001b[0m\u001b[0mAnd\u001b[0m\u001b[0;34m(\u001b[0m\u001b[0mI\u001b[0m\u001b[0;34m,\u001b[0m \u001b[0mTk_1\u001b[0m\u001b[0;34m,\u001b[0m \u001b[0mNot\u001b[0m\u001b[0;34m(\u001b[0m\u001b[0mPk_1\u001b[0m\u001b[0;34m)\u001b[0m\u001b[0;34m)\u001b[0m\u001b[0;34m)\u001b[0m\u001b[0;34m\u001b[0m\u001b[0;34m\u001b[0m\u001b[0m\n\u001b[0m\u001b[1;32m    127\u001b[0m         \u001b[0;32mif\u001b[0m \u001b[0mr\u001b[0m\u001b[0;34m:\u001b[0m \u001b[0mprint\u001b[0m\u001b[0;34m(\u001b[0m\u001b[0;34m\"Invalid property\"\u001b[0m\u001b[0;34m)\u001b[0m\u001b[0;34m\u001b[0m\u001b[0;34m\u001b[0m\u001b[0m\n\u001b[1;32m    128\u001b[0m         \u001b[0mPk\u001b[0m \u001b[0;34m=\u001b[0m \u001b[0mself\u001b[0m\u001b[0;34m.\u001b[0m\u001b[0mexpand_prop\u001b[0m\u001b[0;34m(\u001b[0m\u001b[0mprop\u001b[0m\u001b[0;34m,\u001b[0m \u001b[0mk\u001b[0m\u001b[0;34m-\u001b[0m\u001b[0;36m1\u001b[0m\u001b[0;34m)\u001b[0m\u001b[0;34m\u001b[0m\u001b[0;34m\u001b[0m\u001b[0m\n",
            "\u001b[0;32m/usr/local/lib/python3.8/dist-packages/pysmt/shortcuts.py\u001b[0m in \u001b[0;36mis_sat\u001b[0;34m(formula, solver_name, logic, portfolio)\u001b[0m\n\u001b[1;32m    998\u001b[0m         \u001b[0mformula\u001b[0m \u001b[0;34m=\u001b[0m \u001b[0menv\u001b[0m\u001b[0;34m.\u001b[0m\u001b[0mformula_manager\u001b[0m\u001b[0;34m.\u001b[0m\u001b[0mnormalize\u001b[0m\u001b[0;34m(\u001b[0m\u001b[0mformula\u001b[0m\u001b[0;34m)\u001b[0m\u001b[0;34m\u001b[0m\u001b[0;34m\u001b[0m\u001b[0m\n\u001b[1;32m    999\u001b[0m \u001b[0;34m\u001b[0m\u001b[0m\n\u001b[0;32m-> 1000\u001b[0;31m     return env.factory.is_sat(formula,\n\u001b[0m\u001b[1;32m   1001\u001b[0m                               \u001b[0msolver_name\u001b[0m\u001b[0;34m=\u001b[0m\u001b[0msolver_name\u001b[0m\u001b[0;34m,\u001b[0m\u001b[0;34m\u001b[0m\u001b[0;34m\u001b[0m\u001b[0m\n\u001b[1;32m   1002\u001b[0m                               \u001b[0mlogic\u001b[0m\u001b[0;34m=\u001b[0m\u001b[0mlogic\u001b[0m\u001b[0;34m,\u001b[0m\u001b[0;34m\u001b[0m\u001b[0;34m\u001b[0m\u001b[0m\n",
            "\u001b[0;32m/usr/local/lib/python3.8/dist-packages/pysmt/factory.py\u001b[0m in \u001b[0;36mis_sat\u001b[0;34m(self, formula, solver_name, logic, portfolio)\u001b[0m\n\u001b[1;32m    461\u001b[0m                                generate_models=False, incremental=False)\n\u001b[1;32m    462\u001b[0m         \u001b[0;32melse\u001b[0m\u001b[0;34m:\u001b[0m\u001b[0;34m\u001b[0m\u001b[0;34m\u001b[0m\u001b[0m\n\u001b[0;32m--> 463\u001b[0;31m             solver = self.Solver(name=solver_name, logic=logic,\n\u001b[0m\u001b[1;32m    464\u001b[0m                                  generate_models=False, incremental=False)\n\u001b[1;32m    465\u001b[0m         \u001b[0;32mwith\u001b[0m \u001b[0msolver\u001b[0m\u001b[0;34m:\u001b[0m\u001b[0;34m\u001b[0m\u001b[0;34m\u001b[0m\u001b[0m\n",
            "\u001b[0;32m/usr/local/lib/python3.8/dist-packages/pysmt/factory.py\u001b[0m in \u001b[0;36mSolver\u001b[0;34m(self, name, logic, **options)\u001b[0m\n\u001b[1;32m    435\u001b[0m     \u001b[0;31m##\u001b[0m\u001b[0;34m\u001b[0m\u001b[0;34m\u001b[0m\u001b[0;34m\u001b[0m\u001b[0m\n\u001b[1;32m    436\u001b[0m     \u001b[0;32mdef\u001b[0m \u001b[0mSolver\u001b[0m\u001b[0;34m(\u001b[0m\u001b[0mself\u001b[0m\u001b[0;34m,\u001b[0m \u001b[0mname\u001b[0m\u001b[0;34m=\u001b[0m\u001b[0;32mNone\u001b[0m\u001b[0;34m,\u001b[0m \u001b[0mlogic\u001b[0m\u001b[0;34m=\u001b[0m\u001b[0;32mNone\u001b[0m\u001b[0;34m,\u001b[0m \u001b[0;34m**\u001b[0m\u001b[0moptions\u001b[0m\u001b[0;34m)\u001b[0m\u001b[0;34m:\u001b[0m\u001b[0;34m\u001b[0m\u001b[0;34m\u001b[0m\u001b[0m\n\u001b[0;32m--> 437\u001b[0;31m         return self.get_solver(name=name,\n\u001b[0m\u001b[1;32m    438\u001b[0m                                \u001b[0mlogic\u001b[0m\u001b[0;34m=\u001b[0m\u001b[0mlogic\u001b[0m\u001b[0;34m,\u001b[0m\u001b[0;34m\u001b[0m\u001b[0;34m\u001b[0m\u001b[0m\n\u001b[1;32m    439\u001b[0m                                **options)\n",
            "\u001b[0;32m/usr/local/lib/python3.8/dist-packages/pysmt/factory.py\u001b[0m in \u001b[0;36mget_solver\u001b[0;34m(self, name, logic, **options)\u001b[0m\n\u001b[1;32m     89\u001b[0m     \u001b[0;32mdef\u001b[0m \u001b[0mget_solver\u001b[0m\u001b[0;34m(\u001b[0m\u001b[0mself\u001b[0m\u001b[0;34m,\u001b[0m \u001b[0mname\u001b[0m\u001b[0;34m=\u001b[0m\u001b[0;32mNone\u001b[0m\u001b[0;34m,\u001b[0m \u001b[0mlogic\u001b[0m\u001b[0;34m=\u001b[0m\u001b[0;32mNone\u001b[0m\u001b[0;34m,\u001b[0m \u001b[0;34m**\u001b[0m\u001b[0moptions\u001b[0m\u001b[0;34m)\u001b[0m\u001b[0;34m:\u001b[0m\u001b[0;34m\u001b[0m\u001b[0;34m\u001b[0m\u001b[0m\n\u001b[1;32m     90\u001b[0m         \u001b[0mSolverClass\u001b[0m\u001b[0;34m,\u001b[0m \u001b[0mcloser_logic\u001b[0m \u001b[0;34m=\u001b[0m\u001b[0;31m \u001b[0m\u001b[0;31m\\\u001b[0m\u001b[0;34m\u001b[0m\u001b[0;34m\u001b[0m\u001b[0m\n\u001b[0;32m---> 91\u001b[0;31m            self._get_solver_class(solver_list=self._all_solvers,\n\u001b[0m\u001b[1;32m     92\u001b[0m                                   \u001b[0msolver_type\u001b[0m\u001b[0;34m=\u001b[0m\u001b[0;34m\"Solver\"\u001b[0m\u001b[0;34m,\u001b[0m\u001b[0;34m\u001b[0m\u001b[0;34m\u001b[0m\u001b[0m\n\u001b[1;32m     93\u001b[0m                                   \u001b[0mpreference_list\u001b[0m\u001b[0;34m=\u001b[0m\u001b[0mself\u001b[0m\u001b[0;34m.\u001b[0m\u001b[0msolver_preference_list\u001b[0m\u001b[0;34m,\u001b[0m\u001b[0;34m\u001b[0m\u001b[0;34m\u001b[0m\u001b[0m\n",
            "\u001b[0;32m/usr/local/lib/python3.8/dist-packages/pysmt/factory.py\u001b[0m in \u001b[0;36m_get_solver_class\u001b[0;34m(self, solver_list, solver_type, preference_list, default_logic, name, logic)\u001b[0m\n\u001b[1;32m    144\u001b[0m                           default_logic, name=None, logic=None):\n\u001b[1;32m    145\u001b[0m         \u001b[0;32mif\u001b[0m \u001b[0mlen\u001b[0m\u001b[0;34m(\u001b[0m\u001b[0msolver_list\u001b[0m\u001b[0;34m)\u001b[0m \u001b[0;34m==\u001b[0m \u001b[0;36m0\u001b[0m\u001b[0;34m:\u001b[0m\u001b[0;34m\u001b[0m\u001b[0;34m\u001b[0m\u001b[0m\n\u001b[0;32m--> 146\u001b[0;31m             \u001b[0;32mraise\u001b[0m \u001b[0mNoSolverAvailableError\u001b[0m\u001b[0;34m(\u001b[0m\u001b[0;34m\"No %s is available\"\u001b[0m \u001b[0;34m%\u001b[0m \u001b[0msolver_type\u001b[0m\u001b[0;34m)\u001b[0m\u001b[0;34m\u001b[0m\u001b[0;34m\u001b[0m\u001b[0m\n\u001b[0m\u001b[1;32m    147\u001b[0m \u001b[0;34m\u001b[0m\u001b[0m\n\u001b[1;32m    148\u001b[0m         \u001b[0mlogic\u001b[0m \u001b[0;34m=\u001b[0m \u001b[0mconvert_logic_from_string\u001b[0m\u001b[0;34m(\u001b[0m\u001b[0mlogic\u001b[0m\u001b[0;34m)\u001b[0m\u001b[0;34m\u001b[0m\u001b[0;34m\u001b[0m\u001b[0m\n",
            "\u001b[0;31mNoSolverAvailableError\u001b[0m: No Solver is available"
          ]
        }
      ]
    },
    {
      "cell_type": "markdown",
      "id": "7440e6a3",
      "metadata": {
        "id": "7440e6a3"
      },
      "source": [
        "### Exercício 2\n",
        "\n",
        "Um SFOTS pode ser implementado como uma subclasse de FOTS. Complete a definição desta classe acescentando os métodos que achar convenientes."
      ]
    },
    {
      "cell_type": "code",
      "execution_count": null,
      "id": "94244ca8",
      "metadata": {
        "id": "94244ca8"
      },
      "outputs": [],
      "source": [
        "\n",
        "class SFOTS(FOTS):\n",
        "\n",
        "    def __init__(self, label, variables, init, trans, error):\n",
        "        # completar\n",
        "        super().__init__(label, valriables, init, trans)\n",
        "        self.error = create_error(variables, error)\n",
        "        #return ?\n",
        "\n",
        "\n",
        "    def create_error(self, variables, error):\n",
        "        # completar\n",
        "        pass\n",
        "\n",
        "\n",
        "    def inverse_original_trans(self):\n",
        "        # completar\n",
        "        pass\n",
        "\n",
        "\n",
        "    def dual(self, label):\n",
        "        # completar\n",
        "        pass\n",
        "\n",
        "\n",
        "\n",
        "\n"
      ]
    },
    {
      "cell_type": "code",
      "execution_count": null,
      "id": "713f92d2",
      "metadata": {
        "id": "713f92d2"
      },
      "outputs": [],
      "source": []
    }
  ],
  "metadata": {
    "kernelspec": {
      "display_name": "Python 3 [logica]",
      "language": "python",
      "name": "logica"
    },
    "language_info": {
      "codemirror_mode": {
        "name": "ipython",
        "version": 3
      },
      "file_extension": ".py",
      "mimetype": "text/x-python",
      "name": "python",
      "nbconvert_exporter": "python",
      "pygments_lexer": "ipython3",
      "version": "3.10.4"
    },
    "colab": {
      "provenance": []
    }
  },
  "nbformat": 4,
  "nbformat_minor": 5
}