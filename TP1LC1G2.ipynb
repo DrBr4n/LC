{
 "cells": [
  {
   "cell_type": "code",
   "execution_count": 2,
   "id": "d460b24e",
   "metadata": {},
   "outputs": [],
   "source": [
    "from ortools.linear_solver import pywraplp\n",
    "import random"
   ]
  },
  {
   "cell_type": "code",
   "execution_count": 3,
   "id": "00f58c7d",
   "metadata": {},
   "outputs": [],
   "source": [
    "schedule = pywraplp.Solver.CreateSolver('SCIP')\n",
    "P,D,T,S = 3,5,8,5\n",
    "\n",
    "dic = {}\n",
    "\n",
    "for p in range(P):\n",
    "    dic[p] = {}\n",
    "    for d in range(D):\n",
    "        dic[p][d] = {}\n",
    "        for t in range(T):\n",
    "            dic[p][d][t] = {}\n",
    "            for s in range(S):\n",
    "                dic[p][d][t][s] = schedule.BoolVar('x[%i][%i][%i][%i]' % (p,d,t,s))\n",
    "                \n",
    "def dic(p,d,t,s):\n",
    "    return dic[p][d][t][s]"
   ]
  },
  {
   "cell_type": "code",
   "execution_count": 4,
   "id": "38649fd7",
   "metadata": {},
   "outputs": [],
   "source": [
    "colab = {}\n",
    "Availability = 75\n",
    "\n",
    "L = []\n",
    "H = []\n",
    "\n",
    "Choice = [True] * Availability + [False] * (100-Availability)\n",
    "\n",
    "C = 15"
   ]
  },
  {
   "cell_type": "code",
   "execution_count": null,
   "id": "217ada6a",
   "metadata": {},
   "outputs": [],
   "source": []
  },
  {
   "cell_type": "code",
   "execution_count": null,
   "id": "772d65ce",
   "metadata": {},
   "outputs": [],
   "source": []
  }
 ],
 "metadata": {
  "kernelspec": {
   "display_name": "Python 3 (ipykernel)",
   "language": "python",
   "name": "python3"
  },
  "language_info": {
   "codemirror_mode": {
    "name": "ipython",
    "version": 3
   },
   "file_extension": ".py",
   "mimetype": "text/x-python",
   "name": "python",
   "nbconvert_exporter": "python",
   "pygments_lexer": "ipython3",
   "version": "3.10.4"
  }
 },
 "nbformat": 4,
 "nbformat_minor": 5
}
