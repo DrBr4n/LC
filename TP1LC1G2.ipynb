{
 "cells": [
  {
   "cell_type": "code",
   "execution_count": 1,
   "id": "d460b24e",
   "metadata": {},
   "outputs": [],
   "source": [
    "from ortools.linear_solver import pywraplp\n",
    "import random"
   ]
  },
  {
   "cell_type": "code",
   "execution_count": 2,
   "id": "00f58c7d",
   "metadata": {},
   "outputs": [],
   "source": [
    "schedule = pywraplp.Solver.CreateSolver('SCIP')\n",
    "P,D,T,S,C = 3,5,8,5,10\n",
    "\n",
    "x = {}\n",
    "\n",
    "for p in range(P):\n",
    "    x[p] = {}\n",
    "    for d in range(D):\n",
    "        x[p][d] = {}\n",
    "        for t in range(T):\n",
    "            x[p][d][t] = {}\n",
    "            for s in range(S):\n",
    "                x[p][d][t][s] = schedule.BoolVar(f'X[{p}[{d}][{t}][{s}]')\n",
    "                \n",
    "def X(p,d,t,s):\n",
    "    return x[p][d][t][s]\n",
    "\n",
    "collaborators = {}\n",
    "availability = 75\n",
    "AvailabilityList = [True] * availability + [False] * (100-availability)\n",
    "\n",
    "L = [] #liders\n",
    "H = [] #horas de projeto\n",
    "\n",
    "def randomCollab(C,h):\n",
    "    collaborators.clear()\n",
    "    for p in range(P):\n",
    "        H.append(random.randint(1,h))\n",
    "        L.append(random.randint(0,C-1))\n",
    "        for c in range(C):\n",
    "            for d in range(D):\n",
    "                for t in range(T):\n",
    "                    collaborators[p,c,d,t] = random.choice(AvailabilityList)\n",
    "\n",
    "randomCollab(C,5)"
   ]
  },
  {
   "cell_type": "markdown",
   "id": "79c1bab9",
   "metadata": {},
   "source": [
    "A restrição:\n",
    "\n",
    "1. Para cada dia $(D)\\,$, tempo $(T)\\,$ e sala $(S)\\,$ existe apenas um projeto $(P)\\,$.\n",
    "\n",
    "$$\\forall_d \\cdot \\forall_t \\cdot \\forall_s \\cdot \\quad \\sum_{p<P} \\space x_{p,d,t,s} \\leq 1$$"
   ]
  },
  {
   "cell_type": "code",
   "execution_count": 3,
   "id": "772d65ce",
   "metadata": {},
   "outputs": [],
   "source": [
    "for d in range(D):\n",
    "    for t in range(T):\n",
    "        for s in range(S):\n",
    "            schedule.Add(sum([X(p,d,t,s) for p in range(P)]) <= 1)"
   ]
  },
  {
   "cell_type": "markdown",
   "id": "494b9de0",
   "metadata": {},
   "source": [
    "Para qualquer projeto, dia e tempo, só poderá ser numa sala.\n",
    "\n",
    "$$\\forall_p \\cdot \\forall_d \\cdot \\forall_t \\cdot \\quad \\sum_{s<S} \\space x_{p,d,t,s} \\leq 1$$\n"
   ]
  },
  {
   "cell_type": "code",
   "execution_count": 4,
   "id": "4465bd21",
   "metadata": {},
   "outputs": [],
   "source": [
    "for p in range(P):\n",
    "    for d in range(D):\n",
    "        for t in range(T):\n",
    "            schedule.Add(sum([X(p,d,t,s) for s in range(S)]) <= 1)"
   ]
  },
  {
   "cell_type": "markdown",
   "id": "beb91d51",
   "metadata": {},
   "source": [
    "A seguinte restrição vem da existencia de um $Lider$ por projeto que é obrigado a estar presente em todas as reuniões. \n",
    "\n",
    "$$\n",
    "\\forall p \\cdot \\forall d \\cdot \\forall t \\cdot \\forall s \\cdot \\space x_{p,d,t,s} \\leq collaborators_{p,L_p,d,t}\n",
    "$$"
   ]
  },
  {
   "cell_type": "code",
   "execution_count": 5,
   "id": "7b9d8f0e",
   "metadata": {},
   "outputs": [],
   "source": [
    "for p in range(P):\n",
    "    for d in range(D):\n",
    "        for t in range(T):\n",
    "            for s in range(S):\n",
    "                schedule.Add(X(p,d,t,s) <= collaborators[p,L[p],d,t])"
   ]
  },
  {
   "cell_type": "markdown",
   "id": "dfa897fb",
   "metadata": {},
   "source": [
    "Sendo que cada projeto realiza um dado número de reuniões semanais, temos então a restrição de que para qualquer projeto, o número total de reuniões de cada projeto será igual a $H_p$(um array que terá essa informação).\n",
    "\n",
    "$$\\forall_p \\cdot \\sum_{d<D}  \\sum_{t<T} \\sum_{s<S} \\space x_{p,d,t,s} == H_p$$\n"
   ]
  },
  {
   "cell_type": "code",
   "execution_count": 6,
   "id": "5a4505aa",
   "metadata": {},
   "outputs": [],
   "source": [
    "for p in range(P):\n",
    "    schedule.Add(sum([X(p,d,t,s) for d in range(D) for t in range(T) for s in range(S)]) == H[p])"
   ]
  },
  {
   "cell_type": "markdown",
   "id": "bc74f473",
   "metadata": {},
   "source": [
    "Colaboradores podem ou não estar presentes na reunião, no entanto a reunião só se realiza num mínimo \"quorum\" sendo este 50% dos colaboradores totais.\n",
    "\n",
    "$$\n",
    "\\forall p \\cdot \\forall d \\cdot \\forall t \\cdot \\forall s \\cdot x_{p,d,t,s} \\leq (\\dfrac {\\sum_{c} collaborators_{p,c,d,t}}{C})\n",
    "$$"
   ]
  },
  {
   "cell_type": "code",
   "execution_count": 7,
   "id": "be1880ce",
   "metadata": {},
   "outputs": [],
   "source": [
    "for p in range(P):\n",
    "    for d in range(D):\n",
    "        for t in range(T):\n",
    "            for s in range(S):\n",
    "                schedule.Add(X(p,d,t,s) <= (sum([collaborators[p,c,d,t] for c in range(C)])/C))"
   ]
  },
  {
   "cell_type": "markdown",
   "id": "1527b978",
   "metadata": {},
   "source": [
    "Para maximizar o número de reuniões efetivamente realizadas, maximiza-se a soma do numero de reuniões semanais portanto $H$."
   ]
  },
  {
   "cell_type": "code",
   "execution_count": 8,
   "id": "a2c4c3c6",
   "metadata": {},
   "outputs": [],
   "source": [
    "#schedule.Maximize(sum(H))"
   ]
  },
  {
   "cell_type": "markdown",
   "id": "fca8273b",
   "metadata": {},
   "source": [
    "Para minimizar o número médio de reuniões por participante, minimiza-se ?"
   ]
  },
  {
   "cell_type": "code",
   "execution_count": 9,
   "id": "763e295e",
   "metadata": {},
   "outputs": [],
   "source": [
    "#schedule.Minimize()"
   ]
  },
  {
   "cell_type": "code",
   "execution_count": 10,
   "id": "de709ad8",
   "metadata": {
    "scrolled": true
   },
   "outputs": [],
   "source": [
    "status = schedule.Solve()\n",
    "\n",
    "if (status == pywraplp.Solver.OPTIMAL or status == pywraplp.Solver.FEASIBLE):\n",
    "    for p in range(P):\n",
    "        print(F'#Lista de reuniões do projeto {p}:')\n",
    "        for d in range(D):\n",
    "            for t in range(T):\n",
    "                for s in range(S):\n",
    "                    if x[p][d][t][s].solution_value() != 0:\n",
    "                        print(F'Dia: {d}, Horas: {t}, Sala: {s}')"
   ]
  },
  {
   "cell_type": "code",
   "execution_count": null,
   "id": "ae580509",
   "metadata": {},
   "outputs": [],
   "source": []
  },
  {
   "cell_type": "code",
   "execution_count": null,
   "id": "815a71ec",
   "metadata": {},
   "outputs": [],
   "source": []
  },
  {
   "cell_type": "code",
   "execution_count": null,
   "id": "d4c3419f",
   "metadata": {},
   "outputs": [],
   "source": []
  }
 ],
 "metadata": {
  "kernelspec": {
   "display_name": "Python 3 (ipykernel)",
   "language": "python",
   "name": "python3"
  },
  "language_info": {
   "codemirror_mode": {
    "name": "ipython",
    "version": 3
   },
   "file_extension": ".py",
   "mimetype": "text/x-python",
   "name": "python",
   "nbconvert_exporter": "python",
   "pygments_lexer": "ipython3",
   "version": "3.10.6"
  }
 },
 "nbformat": 4,
 "nbformat_minor": 5
}
