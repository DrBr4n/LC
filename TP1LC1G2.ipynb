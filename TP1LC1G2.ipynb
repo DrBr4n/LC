{
 "cells": [
  {
   "cell_type": "markdown",
   "id": "551ff4f4",
   "metadata": {},
   "source": [
    "# Lógica Computacional TP1\n",
    "## Grupo 2\n",
    "\n",
    "### Membros:\n",
    "\n",
    "Bruno Cunha Silva - A91649\n",
    "\n",
    "Gonçalo Duarte Gomes Rodrigues - A91641\n",
    "\n",
    "Tiago Rafael Fernandes Guimarães - A91689\n",
    "$$$$"
   ]
  },
  {
   "cell_type": "markdown",
   "id": "4e3a8fe9",
   "metadata": {},
   "source": [
    "### Implementação\n",
    "\n",
    "Começamos por importar a biblioteca de programação linear do OR-Tools e a biblioteca random."
   ]
  },
  {
   "cell_type": "markdown",
   "id": "86c36ed9",
   "metadata": {},
   "source": [
    "\n",
    "\n",
    "Neste exercicío começamos por criar o solver, tipo SCIP, do nosso problema ao qual damos o nome de $schedule$."
   ]
  },
  {
   "cell_type": "code",
   "execution_count": 1,
   "id": "2878f330",
   "metadata": {},
   "outputs": [],
   "source": [
    "from ortools.linear_solver import pywraplp\n",
    "import random\n",
    "\n",
    "schedule = pywraplp.Solver.CreateSolver('SCIP')\n",
    "P,D,T,S,C = 4,5,8,6,10"
   ]
  },
  {
   "cell_type": "markdown",
   "id": "3dc3d1a9",
   "metadata": {},
   "source": [
    "Em seguida, declaramos: \n",
    "* a matriz de alocação, $X$, com as seguintes variavéis indexadas:\n",
    "    *   P, para representar os projetos de 1..$P$\n",
    "    *   D, para representar os dias de 1..$D$\n",
    "    *   T, para representar os tempos de 1..$T$\n",
    "    *   S, para representar as salas de 1..$S$\n",
    "    *   C, para representar os colaboradores de 1..$C$\n",
    "* o conjunto que deve guardar os colaboradores, $collaborators$;\n",
    "* a lista dos lideres, $L$;\n",
    "* a lista das horas de projeto, $H$.\n",
    "\n",
    "Definimos, ainda a função \"Collab\" que constrói o conjunto de colaboradores e para cada projeto escolhe um líder aleatório e um numero de reuniões entre 1 e h."
   ]
  },
  {
   "cell_type": "code",
   "execution_count": 2,
   "id": "4a866ade",
   "metadata": {},
   "outputs": [],
   "source": [
    "x = {}\n",
    "\n",
    "for p in range(P):\n",
    "    x[p] = {}\n",
    "    for d in range(D):\n",
    "        x[p][d] = {}\n",
    "        for t in range(T):\n",
    "            x[p][d][t] = {}\n",
    "            for s in range(S):\n",
    "                x[p][d][t][s] = schedule.BoolVar(f'X[{p}[{d}][{t}][{s}]')\n",
    "                \n",
    "def X(p,d,t,s):\n",
    "    return x[p][d][t][s]\n",
    "\n",
    "collaborators = {}\n",
    "\n",
    "L = [] #liders\n",
    "H = [] #nReunioes de projeto\n",
    "\n",
    "def Collab(C,h):\n",
    "    collaborators.clear()\n",
    "    for p in range(P):\n",
    "        H.append(random.randint(1,h))\n",
    "        L.append(random.randint(0,C-1))\n",
    "        for c in range(C):\n",
    "            for d in range(D):\n",
    "                for t in range(T):\n",
    "                    collaborators[p,c,d,t] = True\n",
    "\n",
    "Collab(C,4)"
   ]
  },
  {
   "cell_type": "markdown",
   "id": "79c1bab9",
   "metadata": {},
   "source": [
    "Passamos agora à modelação das restrições e à sua introdução no solver.\n",
    "\n",
    "### Restrições:\n",
    "\n",
    "\n",
    "1. Para cada dia $(D)\\,$, tempo $(T)\\,$ e sala $(S)\\,$ existe apenas um projeto $(P)\\,$.\n",
    "\n",
    "$$\\forall_d \\cdot \\forall_t \\cdot \\forall_s \\cdot \\quad \\sum_{p<P} \\space x_{p,d,t,s} \\leq 1$$"
   ]
  },
  {
   "cell_type": "code",
   "execution_count": 3,
   "id": "772d65ce",
   "metadata": {},
   "outputs": [],
   "source": [
    "for d in range(D):\n",
    "    for t in range(T):\n",
    "        for s in range(S):\n",
    "            schedule.Add(sum([X(p,d,t,s) for p in range(P)]) <= 1)"
   ]
  },
  {
   "cell_type": "markdown",
   "id": "494b9de0",
   "metadata": {},
   "source": [
    "2. Para qualquer projeto $(P)\\,$, dia $(D)\\,$ e tempo $(T)\\,$, cada reunião só poderá ser numa sala.\n",
    "\n",
    "$$\\forall_p \\cdot \\forall_d \\cdot \\forall_t \\cdot \\quad \\sum_{s<S} \\space x_{p,d,t,s} \\leq 1$$\n"
   ]
  },
  {
   "cell_type": "code",
   "execution_count": 4,
   "id": "4465bd21",
   "metadata": {},
   "outputs": [],
   "source": [
    "for p in range(P):\n",
    "    for d in range(D):\n",
    "        for t in range(T):\n",
    "            schedule.Add(sum([X(p,d,t,s) for s in range(S)]) <= 1)"
   ]
  },
  {
   "cell_type": "markdown",
   "id": "beb91d51",
   "metadata": {},
   "source": [
    "3. A seguinte restrição vem da existencia de um $Lider$ por projeto $(P)\\,$ que é obrigado a estar presente em todas as reuniões. \n",
    "\n",
    "$$\n",
    "\\forall p \\cdot \\forall d \\cdot \\forall t \\cdot \\forall s \\cdot \\space x_{p,d,t,s} \\leq collaborators_{p,L_p,d,t}\n",
    "$$"
   ]
  },
  {
   "cell_type": "code",
   "execution_count": 5,
   "id": "7b9d8f0e",
   "metadata": {},
   "outputs": [],
   "source": [
    "for p in range(P):\n",
    "    for d in range(D):\n",
    "        for t in range(T):\n",
    "            for s in range(S):\n",
    "                schedule.Add(X(p,d,t,s) <= collaborators[p,L[p],d,t])"
   ]
  },
  {
   "cell_type": "markdown",
   "id": "dfa897fb",
   "metadata": {},
   "source": [
    "4. Sendo que cada projeto realiza um dado número de reuniões semanais, temos então a restrição de que para qualquer projeto, o número total de reuniões de cada projeto será igual a $H_p$(um array que terá essa informação).\n",
    "\n",
    "$$\\forall_p \\cdot \\sum_{d<D}  \\sum_{t<T} \\sum_{s<S} \\space x_{p,d,t,s} == H_p$$\n"
   ]
  },
  {
   "cell_type": "code",
   "execution_count": 6,
   "id": "5a4505aa",
   "metadata": {},
   "outputs": [],
   "source": [
    "for p in range(P):\n",
    "    schedule.Add(sum([X(p,d,t,s) for d in range(D) for t in range(T) for s in range(S)]) == H[p])"
   ]
  },
  {
   "cell_type": "markdown",
   "id": "bc74f473",
   "metadata": {},
   "source": [
    "5. Colaboradores podem ou não estar presentes na reunião, no entanto a reunião só se realiza num mínimo \"quorum\" sendo este 50% dos colaboradores totais.\n",
    "\n",
    "$$\n",
    "\\forall p \\cdot \\forall d \\cdot \\forall t \\cdot \\forall s \\cdot x_{p,d,t,s} \\leq (\\dfrac {\\sum_{c} collaborators_{p,c,d,t}}{C})\n",
    "$$"
   ]
  },
  {
   "cell_type": "code",
   "execution_count": 7,
   "id": "be1880ce",
   "metadata": {},
   "outputs": [],
   "source": [
    "for p in range(P):\n",
    "    for d in range(D):\n",
    "        for t in range(T):\n",
    "            for s in range(S):\n",
    "                schedule.Add(X(p,d,t,s) <= (sum([collaborators[p,c,d,t] for c in range(C)])/C))"
   ]
  },
  {
   "cell_type": "markdown",
   "id": "1527b978",
   "metadata": {},
   "source": [
    "6. Para maximizar o número de reuniões efetivamente realizadas, maximiza-se a soma do numero de reuniões semanais portanto $H$."
   ]
  },
  {
   "cell_type": "code",
   "execution_count": 8,
   "id": "a2c4c3c6",
   "metadata": {},
   "outputs": [],
   "source": [
    "schedule.Maximize(sum(H))"
   ]
  },
  {
   "cell_type": "code",
   "execution_count": 9,
   "id": "9801fbdc",
   "metadata": {
    "scrolled": true
   },
   "outputs": [
    {
     "name": "stdout",
     "output_type": "stream",
     "text": [
      "#Lista de reuniões do projeto 1:\n",
      "Dia: 4, Horas: 14, Sala: 1\n",
      "Dia: 4, Horas: 15, Sala: 1\n",
      "#Lista de reuniões do projeto 2:\n",
      "Dia: 5, Horas: 8, Sala: 1\n",
      "Dia: 5, Horas: 9, Sala: 1\n",
      "#Lista de reuniões do projeto 3:\n",
      "Dia: 5, Horas: 10, Sala: 1\n",
      "Dia: 5, Horas: 11, Sala: 1\n",
      "Dia: 5, Horas: 12, Sala: 1\n",
      "#Lista de reuniões do projeto 4:\n",
      "Dia: 5, Horas: 13, Sala: 1\n",
      "Dia: 5, Horas: 14, Sala: 1\n",
      "Dia: 5, Horas: 15, Sala: 1\n"
     ]
    }
   ],
   "source": [
    "status = schedule.Solve()\n",
    "\n",
    "if (status == pywraplp.Solver.OPTIMAL):\n",
    "    for p in range(P):\n",
    "        print(F'#Lista de reuniões do projeto {p+1}:')\n",
    "        for d in range(D):\n",
    "            for t in range(T):\n",
    "                for s in range(S):\n",
    "                    if x[p][d][t][s].solution_value() != 0:\n",
    "                        print(F'Dia: {d+1}, Horas: {t+8}, Sala: {s+1}')"
   ]
  }
 ],
 "metadata": {
  "kernelspec": {
   "display_name": "Python 3 (ipykernel)",
   "language": "python",
   "name": "python3"
  },
  "language_info": {
   "codemirror_mode": {
    "name": "ipython",
    "version": 3
   },
   "file_extension": ".py",
   "mimetype": "text/x-python",
   "name": "python",
   "nbconvert_exporter": "python",
   "pygments_lexer": "ipython3",
   "version": "3.10.4"
  }
 },
 "nbformat": 4,
 "nbformat_minor": 5
}
