{
 "cells": [
  {
   "cell_type": "code",
   "execution_count": 1,
   "id": "f7ba93c5",
   "metadata": {},
   "outputs": [],
   "source": [
    "from ortools.sat.python import cp_model"
   ]
  },
  {
   "cell_type": "code",
   "execution_count": 2,
   "id": "d58212fc",
   "metadata": {},
   "outputs": [],
   "source": [
    "model = cp_model.CpModel()"
   ]
  },
  {
   "cell_type": "code",
   "execution_count": 3,
   "id": "5ebb7d3c",
   "metadata": {},
   "outputs": [],
   "source": [
    "# Variables\n",
    "#m = model.NewIntVar(0, 999, 'm')\n",
    "#n = model.NewIntVar(0, 999, 'n')\n",
    "#q = model.NewIntVar(0, 999, 'q')\n",
    "m = 40\n",
    "n = 130\n",
    "q = 269"
   ]
  },
  {
   "cell_type": "code",
   "execution_count": null,
   "id": "5399a4f7",
   "metadata": {},
   "outputs": [],
   "source": [
    "L = []\n",
    "\n",
    "for j in range(m):\n",
    "    for i in range(n):\n",
    "        L[j][i] = random.randint(-d,d)"
   ]
  },
  {
   "cell_type": "code",
   "execution_count": 4,
   "id": "0f808f56",
   "metadata": {},
   "outputs": [
    {
     "name": "stdout",
     "output_type": "stream",
     "text": [
      "\n",
      "Starting CP-SAT solver v9.4.1874\n",
      "Parameters: log_search_progress: true\n",
      "Setting number of workers to 8\n",
      "\n",
      "Initial satisfaction model '':\n",
      "#Variables: 0\n",
      "\n",
      "\n",
      "Starting presolve at 0.00s\n",
      "[ExtractEncodingFromLinear] #potential_supersets=0 #potential_subsets=0 #at_most_one_encodings=0 #exactly_one_encodings=0 #unique_terms=0 #multiple_terms=0 #literals=0 time=7.9e-07s\n",
      "[Probing] deterministic_time: 0 (limit: 1) wall_time: 2.004e-06 (0/0)\n",
      "[DetectDuplicateConstraints] #duplicates=0 #without_enforcements=0 time=9.37e-07s\n",
      "[DetectDominatedLinearConstraints] #relevant_constraints=0 #work_done=0 #num_inclusions=0 #num_redundant=0 time=1.012e-06s\n",
      "[DetectOverlappingColumns] #processed_columns=0 #work_done=0 #nz_reduction=0 time=3.39e-07s\n",
      "[ProcessSetPPC] #relevant_constraints=0 #num_inclusions=0 work=0 time=6.95e-07s\n",
      "[Symmetry] Graph for symmetry has 0 nodes and 0 arcs.\n",
      "[Probing] deterministic_time: 0 (limit: 1) wall_time: 1.088e-06 (0/0)\n",
      "[DetectDuplicateConstraints] #duplicates=0 #without_enforcements=0 time=5.11e-07s\n",
      "[DetectDominatedLinearConstraints] #relevant_constraints=0 #work_done=0 #num_inclusions=0 #num_redundant=0 time=4.73e-07s\n",
      "[DetectOverlappingColumns] #processed_columns=0 #work_done=0 #nz_reduction=0 time=2.43e-07s\n",
      "[ProcessSetPPC] #relevant_constraints=0 #num_inclusions=0 work=0 time=4.26e-07s\n",
      "[Symmetry] Graph for symmetry has 0 nodes and 0 arcs.\n",
      "[Probing] deterministic_time: 0 (limit: 1) wall_time: 1.354e-06 (0/0)\n",
      "[DetectDuplicateConstraints] #duplicates=0 #without_enforcements=0 time=4.11e-07s\n",
      "[DetectDominatedLinearConstraints] #relevant_constraints=0 #work_done=0 #num_inclusions=0 #num_redundant=0 time=3.93e-07s\n",
      "[DetectOverlappingColumns] #processed_columns=0 #work_done=0 #nz_reduction=0 time=1.49e-07s\n",
      "[ProcessSetPPC] #relevant_constraints=0 #num_inclusions=0 work=0 time=7.24e-07s\n",
      "[Symmetry] Graph for symmetry has 0 nodes and 0 arcs.\n",
      "\n",
      "Presolve summary:\n",
      "  - 0 affine relations were detected.\n",
      "  - rule 'presolve: 0 unused variables removed.' was applied 1 time.\n",
      "  - rule 'presolve: iteration' was applied 3 times.\n",
      "\n",
      "Presolved satisfaction model '':\n",
      "#Variables: 0\n",
      "\n",
      "\n",
      "Preloading model.\n",
      "[Symmetry] Graph for symmetry has 0 nodes and 0 arcs.\n",
      "#Model   0.00s var:0/0 constraints:0/0\n",
      "\n",
      "Starting Search at 0.00s with 8 workers.\n",
      "7 full subsolvers: [default_lp, less_encoding, no_lp, max_lp, quick_restart, quick_restart_no_lp, lb_tree_search]\n",
      "Interleaved subsolvers: [feasibility_pump, rins_lns_default, rens_lns_default]\n",
      "#1       0.00s less_encoding fixed_bools:0/0\n",
      "#2       0.00s no_lp fixed_bools:0/0\n",
      "#3       0.00s default_lp fixed_bools:0/0\n",
      "\n",
      "CpSolverResponse summary:\n",
      "status: OPTIMAL\n",
      "objective: NA\n",
      "best_bound: NA\n",
      "booleans: 0\n",
      "conflicts: 0\n",
      "branches: 0\n",
      "propagations: 0\n",
      "integer_propagations: 0\n",
      "restarts: 0\n",
      "lp_iterations: 0\n",
      "walltime: 0.00474029\n",
      "usertime: 0.00474047\n",
      "deterministic_time: 0\n",
      "gap_integral: 0\n",
      "\n"
     ]
    }
   ],
   "source": [
    "# Solve\n",
    "solver = cp_model.CpSolver()\n",
    "solver.parameters.log_search_progress = True\n",
    "status = solver.Solve(model)"
   ]
  },
  {
   "cell_type": "code",
   "execution_count": 5,
   "id": "2cd4de0e",
   "metadata": {},
   "outputs": [
    {
     "name": "stdout",
     "output_type": "stream",
     "text": [
      "m == 40\n",
      "n == 130\n",
      "q == 269\n"
     ]
    }
   ],
   "source": [
    "if status == cp_model.FEASIBLE or status == cp_model.OPTIMAL:\n",
    "    print(\"m == %d\" % solver.Value(m))\n",
    "    print(\"n == %d\" % solver.Value(n))\n",
    "    print(\"q == %d\" % solver.Value(q))"
   ]
  },
  {
   "cell_type": "markdown",
   "id": "e9cf4f20",
   "metadata": {},
   "source": [
    "TP1"
   ]
  },
  {
   "cell_type": "code",
   "execution_count": 6,
   "id": "2df973b8",
   "metadata": {},
   "outputs": [
    {
     "ename": "AttributeError",
     "evalue": "'int' object has no attribute 'GetIntegerVarValueMap'",
     "output_type": "error",
     "traceback": [
      "\u001b[0;31m---------------------------------------------------------------------------\u001b[0m",
      "\u001b[0;31mAttributeError\u001b[0m                            Traceback (most recent call last)",
      "Input \u001b[0;32mIn [6]\u001b[0m, in \u001b[0;36m<cell line: 1>\u001b[0;34m()\u001b[0m\n\u001b[0;32m----> 1\u001b[0m \u001b[43mq\u001b[49m\u001b[38;5;241;43m.\u001b[39;49m\u001b[43mGetIntegerVarValueMap\u001b[49m()\n",
      "\u001b[0;31mAttributeError\u001b[0m: 'int' object has no attribute 'GetIntegerVarValueMap'"
     ]
    }
   ],
   "source": [
    "q.GetIntegerVarValueMap()"
   ]
  },
  {
   "cell_type": "code",
   "execution_count": null,
   "id": "c8d830fa",
   "metadata": {},
   "outputs": [],
   "source": []
  }
 ],
 "metadata": {
  "kernelspec": {
   "display_name": "Python 3 (ipykernel)",
   "language": "python",
   "name": "python3"
  },
  "language_info": {
   "codemirror_mode": {
    "name": "ipython",
    "version": 3
   },
   "file_extension": ".py",
   "mimetype": "text/x-python",
   "name": "python",
   "nbconvert_exporter": "python",
   "pygments_lexer": "ipython3",
   "version": "3.10.4"
  }
 },
 "nbformat": 4,
 "nbformat_minor": 5
}
