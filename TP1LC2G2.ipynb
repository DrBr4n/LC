{
 "cells": [
  {
   "cell_type": "code",
   "execution_count": null,
   "id": "f7ba93c5",
   "metadata": {},
   "outputs": [],
   "source": [
    "from ortools.sat.python import cp_model"
   ]
  },
  {
   "cell_type": "code",
   "execution_count": null,
   "id": "d58212fc",
   "metadata": {},
   "outputs": [],
   "source": [
    "model = cp_model.CpModel()"
   ]
  },
  {
   "cell_type": "code",
   "execution_count": null,
   "id": "5ebb7d3c",
   "metadata": {},
   "outputs": [],
   "source": [
    "# Variables\n",
    "m = model.NewIntVar(0, 999, 'm')\n",
    "n = model.NewIntVar(0, 999, 'n')\n",
    "q = model.NewIntVar(0, 999, 'q')"
   ]
  },
  {
   "cell_type": "code",
   "execution_count": null,
   "id": "5399a4f7",
   "metadata": {},
   "outputs": [],
   "source": [
    "model.Add(n > 30)\n",
    "model.Add(q >= 3)\n",
    "model.Add(m > n * 4)\n",
    "model.Add(q > m * 2)\n",
    "model.Add(sum(if (q % 2 == 0)))\n",
    "model.Minimize(q)"
   ]
  },
  {
   "cell_type": "code",
   "execution_count": null,
   "id": "0f808f56",
   "metadata": {},
   "outputs": [],
   "source": [
    "# Solve\n",
    "solver = cp_model.CpSolver()\n",
    "solver.parameters.log_search_progress = True\n",
    "status = solver.Solve(model)"
   ]
  },
  {
   "cell_type": "code",
   "execution_count": null,
   "id": "2cd4de0e",
   "metadata": {},
   "outputs": [],
   "source": [
    "if status == cp_model.FEASIBLE or status == cp_model.OPTIMAL:\n",
    "    print(\"m == %d\" % solver.Value(m))\n",
    "    print(\"n == %d\" % solver.Value(n))\n",
    "    print(\"q == %d\" % solver.Value(q))"
   ]
  },
  {
   "cell_type": "markdown",
   "id": "e9cf4f20",
   "metadata": {},
   "source": [
    "TP1"
   ]
  },
  {
   "cell_type": "code",
   "execution_count": null,
   "id": "2df973b8",
   "metadata": {},
   "outputs": [],
   "source": []
  },
  {
   "cell_type": "code",
   "execution_count": null,
   "id": "c8d830fa",
   "metadata": {},
   "outputs": [],
   "source": []
  }
 ],
 "metadata": {
  "kernelspec": {
   "display_name": "Python 3 (ipykernel)",
   "language": "python",
   "name": "python3"
  },
  "language_info": {
   "codemirror_mode": {
    "name": "ipython",
    "version": 3
   },
   "file_extension": ".py",
   "mimetype": "text/x-python",
   "name": "python",
   "nbconvert_exporter": "python",
   "pygments_lexer": "ipython3",
   "version": "3.10.4"
  }
 },
 "nbformat": 4,
 "nbformat_minor": 5
}
