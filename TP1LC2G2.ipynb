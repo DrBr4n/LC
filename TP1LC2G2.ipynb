{
 "cells": [
  {
   "cell_type": "code",
   "execution_count": 1,
   "id": "f7ba93c5",
   "metadata": {},
   "outputs": [],
   "source": [
    "from ortools.sat.python import cp_model\n",
    "import random"
   ]
  },
  {
   "cell_type": "code",
   "execution_count": 2,
   "id": "d58212fc",
   "metadata": {},
   "outputs": [],
   "source": [
    "model = cp_model.CpModel()"
   ]
  },
  {
   "cell_type": "code",
   "execution_count": 3,
   "id": "5ebb7d3c",
   "metadata": {},
   "outputs": [],
   "source": [
    "# Variables\n",
    "#m = model.NewIntVar(0, 999, 'm')\n",
    "#n = model.NewIntVar(0, 999, 'n')\n",
    "k = model.NewIntVar(-1000, 1000, 'k')\n",
    "m = 40\n",
    "n = 130\n",
    "q = 269\n",
    "d = (q-1)/2"
   ]
  },
  {
   "cell_type": "code",
   "execution_count": 4,
   "id": "5399a4f7",
   "metadata": {},
   "outputs": [],
   "source": [
    "L = {}\n",
    "\n",
    "for j in range(m):\n",
    "    L[j] = {}\n",
    "    for i in range(n):\n",
    "        L[j][i] = random.randint(-d,d)"
   ]
  },
  {
   "cell_type": "code",
   "execution_count": 5,
   "id": "2c6fa091",
   "metadata": {},
   "outputs": [],
   "source": [
    "e = []\n",
    "for i in range(m):\n",
    "    e.append(model.NewIntVar(-1, 1, F'e{i}'))\n",
    "\n",
    "for i in range(e):\n",
    "    sum()"
   ]
  },
  {
   "cell_type": "code",
   "execution_count": 6,
   "id": "ab9b23d0",
   "metadata": {},
   "outputs": [],
   "source": [
    "#for i in range(n):\n",
    "#    model.AddMultiplicationEquality(sum([e[j] * L[j][i] for j in range(m)]), q * k)\n"
   ]
  },
  {
   "cell_type": "code",
   "execution_count": 7,
   "id": "545967c5",
   "metadata": {
    "scrolled": true
   },
   "outputs": [
    {
     "data": {
      "text/plain": [
       "[e0(-1..1),\n",
       " e1(-1..1),\n",
       " e2(-1..1),\n",
       " e3(-1..1),\n",
       " e4(-1..1),\n",
       " e5(-1..1),\n",
       " e6(-1..1),\n",
       " e7(-1..1),\n",
       " e8(-1..1),\n",
       " e9(-1..1),\n",
       " e10(-1..1),\n",
       " e11(-1..1),\n",
       " e12(-1..1),\n",
       " e13(-1..1),\n",
       " e14(-1..1),\n",
       " e15(-1..1),\n",
       " e16(-1..1),\n",
       " e17(-1..1),\n",
       " e18(-1..1),\n",
       " e19(-1..1),\n",
       " e20(-1..1),\n",
       " e21(-1..1),\n",
       " e22(-1..1),\n",
       " e23(-1..1),\n",
       " e24(-1..1),\n",
       " e25(-1..1),\n",
       " e26(-1..1),\n",
       " e27(-1..1),\n",
       " e28(-1..1),\n",
       " e29(-1..1),\n",
       " e30(-1..1),\n",
       " e31(-1..1),\n",
       " e32(-1..1),\n",
       " e33(-1..1),\n",
       " e34(-1..1),\n",
       " e35(-1..1),\n",
       " e36(-1..1),\n",
       " e37(-1..1),\n",
       " e38(-1..1),\n",
       " e39(-1..1)]"
      ]
     },
     "execution_count": 7,
     "metadata": {},
     "output_type": "execute_result"
    }
   ],
   "source": [
    "e"
   ]
  },
  {
   "cell_type": "code",
   "execution_count": 8,
   "id": "0f808f56",
   "metadata": {},
   "outputs": [
    {
     "name": "stdout",
     "output_type": "stream",
     "text": [
      "\n",
      "Starting CP-SAT solver v9.4.1874\n",
      "Parameters: log_search_progress: true\n",
      "Setting number of workers to 6\n",
      "\n",
      "Initial satisfaction model '':\n",
      "#Variables: 41\n",
      "  - 1 in [-1000,1000]\n",
      "  - 40 in [-1,1]\n",
      "\n",
      "\n",
      "Starting presolve at 0.00s\n",
      "[ExtractEncodingFromLinear] #potential_supersets=0 #potential_subsets=0 #at_most_one_encodings=0 #exactly_one_encodings=0 #unique_terms=0 #multiple_terms=0 #literals=0 time=1.18e-05s\n",
      "[Probing] deterministic_time: 0 (limit: 1) wall_time: 2.36e-05 (0/0)\n",
      "[DetectDuplicateConstraints] #duplicates=0 #without_enforcements=0 time=5.6e-06s\n",
      "[DetectDominatedLinearConstraints] #relevant_constraints=0 #work_done=0 #num_inclusions=0 #num_redundant=0 time=1.6e-06s\n",
      "[DetectOverlappingColumns] #processed_columns=0 #work_done=0 #nz_reduction=0 time=5.2e-06s\n",
      "[ProcessSetPPC] #relevant_constraints=0 #num_inclusions=0 work=0 time=2.2e-06s\n",
      "[Symmetry] Graph for symmetry has 41 nodes and 0 arcs.\n",
      "[Symmetry] Symmetry computation done. time: 3.5e-05 dtime: 2.46e-06\n",
      "\n",
      "Presolve summary:\n",
      "  - 0 affine relations were detected.\n",
      "  - rule 'presolve: 41 unused variables removed.' was applied 1 time.\n",
      "  - rule 'presolve: iteration' was applied 1 time.\n",
      "\n",
      "Presolved satisfaction model '':\n",
      "#Variables: 0\n",
      "\n",
      "\n",
      "Preloading model.\n",
      "[Symmetry] Graph for symmetry has 0 nodes and 0 arcs.\n",
      "#Model   0.00s var:0/0 constraints:0/0\n",
      "\n",
      "Starting Search at 0.00s with 6 workers.\n",
      "5 full subsolvers: [default_lp, less_encoding, no_lp, max_lp, quick_restart]\n",
      "Interleaved subsolvers: [feasibility_pump, rins_lns_default, rens_lns_default]\n",
      "#1       0.01s no_lp fixed_bools:0/0\n",
      "#2       0.01s max_lp fixed_bools:0/0\n",
      "#3       0.01s less_encoding fixed_bools:0/0\n",
      "#4       0.01s default_lp fixed_bools:0/0\n",
      "\n",
      "CpSolverResponse summary:\n",
      "status: OPTIMAL\n",
      "objective: NA\n",
      "best_bound: NA\n",
      "booleans: 0\n",
      "conflicts: 0\n",
      "branches: 0\n",
      "propagations: 0\n",
      "integer_propagations: 0\n",
      "restarts: 0\n",
      "lp_iterations: 0\n",
      "walltime: 0.0111839\n",
      "usertime: 0.0111849\n",
      "deterministic_time: 0\n",
      "gap_integral: 0\n",
      "\n"
     ]
    }
   ],
   "source": [
    "# Solve\n",
    "solver = cp_model.CpSolver()\n",
    "solver.parameters.log_search_progress = True\n",
    "status = solver.Solve(model)"
   ]
  },
  {
   "cell_type": "code",
   "execution_count": 19,
   "id": "2cd4de0e",
   "metadata": {},
   "outputs": [
    {
     "name": "stdout",
     "output_type": "stream",
     "text": [
      "0\n",
      "0\n",
      "0\n",
      "0\n",
      "0\n",
      "0\n",
      "0\n",
      "0\n",
      "0\n",
      "0\n",
      "0\n",
      "0\n",
      "0\n",
      "0\n",
      "0\n",
      "0\n",
      "0\n",
      "0\n",
      "0\n",
      "0\n",
      "0\n",
      "0\n",
      "0\n",
      "0\n",
      "0\n",
      "0\n",
      "0\n",
      "0\n",
      "0\n",
      "0\n",
      "0\n",
      "0\n",
      "0\n",
      "0\n",
      "0\n",
      "0\n",
      "0\n",
      "0\n",
      "0\n",
      "0\n",
      "k == 0\n"
     ]
    }
   ],
   "source": [
    "if status == cp_model.FEASIBLE or status == cp_model.OPTIMAL:\n",
    "    for num in range(len(e)): print(solver.Value(e[num]))\n",
    "    print(\"k == %d\" % solver.Value(k))"
   ]
  },
  {
   "cell_type": "code",
   "execution_count": 15,
   "id": "c8d830fa",
   "metadata": {},
   "outputs": [
    {
     "data": {
      "text/plain": [
       "e4(-1..1)"
      ]
     },
     "execution_count": 15,
     "metadata": {},
     "output_type": "execute_result"
    }
   ],
   "source": [
    "e[4]"
   ]
  },
  {
   "cell_type": "code",
   "execution_count": null,
   "id": "5d74316a",
   "metadata": {},
   "outputs": [],
   "source": []
  }
 ],
 "metadata": {
  "kernelspec": {
   "display_name": "Python 3 (ipykernel)",
   "language": "python",
   "name": "python3"
  },
  "language_info": {
   "codemirror_mode": {
    "name": "ipython",
    "version": 3
   },
   "file_extension": ".py",
   "mimetype": "text/x-python",
   "name": "python",
   "nbconvert_exporter": "python",
   "pygments_lexer": "ipython3",
   "version": "3.10.6"
  }
 },
 "nbformat": 4,
 "nbformat_minor": 5
}
