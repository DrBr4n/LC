{
  "nbformat": 4,
  "nbformat_minor": 0,
  "metadata": {
    "colab": {
      "provenance": []
    },
    "kernelspec": {
      "name": "python3",
      "display_name": "Python 3"
    },
    "language_info": {
      "name": "python"
    }
  },
  "cells": [
    {
      "cell_type": "code",
      "source": [
        "!pip install z3-solver\n",
        "from z3 import *"
      ],
      "metadata": {
        "colab": {
          "base_uri": "https://localhost:8080/"
        },
        "id": "YkcvwGs3k1kD",
        "outputId": "163b3395-b991-4abe-9774-00ecebc3c293"
      },
      "execution_count": 1,
      "outputs": [
        {
          "output_type": "stream",
          "name": "stdout",
          "text": [
            "Looking in indexes: https://pypi.org/simple, https://us-python.pkg.dev/colab-wheels/public/simple/\n",
            "Collecting z3-solver\n",
            "  Downloading z3_solver-4.11.2.0-py2.py3-none-manylinux1_x86_64.whl (53.8 MB)\n",
            "\u001b[K     |████████████████████████████████| 53.8 MB 154 bytes/s \n",
            "\u001b[?25hInstalling collected packages: z3-solver\n",
            "Successfully installed z3-solver-4.11.2.0\n"
          ]
        }
      ]
    },
    {
      "cell_type": "markdown",
      "metadata": {
        "id": "-7D_VqSLQNda"
      },
      "source": [
        "Estado inicial:\n",
        "\n",
        "$$\n",
        "\\mathit{pc} = 0 \\wedge (x=a) \\wedge (y=b) \\wedge (z=0) \n",
        "$$\n",
        "\n",
        "As transições possíveis no FOTS são caracterizadas pelo seguinte predicado:\n",
        "\n",
        "$$\n",
        "\\begin{array}{c}\n",
        "(\\mathit{pc} = 0 \\wedge y = 0 \\wedge \\mathit{pc}' = 3 \\wedge x' = x \\wedge y' = y \\wedge z' = z )\\\\\n",
        "\\vee\\\\\n",
        "(\\mathit{pc} = 0 \\wedge (y\\%2=0 \\wedge y \\neq 0) \\wedge \\mathit{pc}' = 1 \\wedge x' = x \\wedge y' = y \\wedge z' = z)\\\\\n",
        "\\vee\\\\\n",
        "(\\mathit{pc} = 1 \\wedge (2x ≤ 2^n-1) \\wedge \\mathit{pc}'= 0 \\wedge x' = 2x \\wedge y' = y/2 \\wedge z' = z)\\\\\n",
        "\\vee\\\\\n",
        "(\\mathit{pc} = 0 \\wedge (y\\%2\\neq0 \\wedge y \\neq 0) \\wedge \\mathit{pc}' = 2 \\wedge x' = x \\wedge y' = y \\wedge z' = z)\\\\\n",
        "\\vee\\\\\n",
        "(\\mathit{pc} = 2 \\wedge (z+x \\le 2^n-1)\\wedge \\mathit{pc}'= 0 \\wedge x' = x \\wedge y' = y-1 \\wedge z' = z+x)\\\\\n",
        "\\vee\\\\\n",
        "(\\mathit{pc} = 1 \\wedge (2x > 2^n-1) \\wedge \\mathit{pc}'= 4 \\wedge x' = 2x \\wedge y' = y/2 \\wedge z' = z)\\\\\n",
        "\\vee\\\\\n",
        "(\\mathit{pc} = 2 \\wedge (z+x > 2^n-1) \\wedge \\mathit{pc}'= 4 \\wedge x' = x \\wedge y' = y-1 \\wedge z' = z+x)\\\\\n",
        "\\\\\n",
        "\\end{array}\n",
        "$$"
      ]
    },
    {
      "cell_type": "code",
      "source": [
        "def declare(i):\n",
        "    state = {}\n",
        "    state['pc'] = Int('pc' + str(i))\n",
        "    state['x'] = Const('x' + str(i), BitVecSort(n))\n",
        "    state['y'] = Const('y' + str(i), BitVecSort(n))\n",
        "    state['z'] = Const('z' + str(i), BitVecSort(n))\n",
        "    return state \n",
        "      \n",
        "def init(state):    \n",
        "    return And(state['pc'] == 0, state['x'] == BitVecVal(a,n), state['y'] == BitVecVal(b,n), state['z'] == BitVecVal(0,n)) \n",
        "\n",
        "def trans(c,p):\n",
        "    t03 = And(c['pc']==0, c['y']==BitVecVal(0,n), p['pc']==3, p['x']==c['x'], p['y']==c['y'], p['z']==c['z'])\n",
        "\n",
        "    t01 = And(c['pc']==0, And(c['y']%2==0, c['y']!=0), p['pc']==1, p['x']==c['x'], p['y']==c['y'], p['z']==c['z'])\n",
        "    t10 = And(c['pc']==1, BV2Int(c['x'])*2 <= (2**n)-1, p['pc']==0, p['x']==c['x']*2, p['y']==c['y']/2, p['z']==c['z'])\n",
        "\n",
        "    t02 = And(c['pc']==0, And(c['y']%2!=0, c['y']!=0), p['pc']==2, p['x']==c['x'], p['y']==c['y'], p['z']==c['z'])\n",
        "    t20 = And(c['pc']==2, BV2Int(c['z'])+BV2Int(c['x']) <= (2**n)-1, p['pc']==0, p['x']==c['x'], p['y']==c['y']-1, p['z']==c['z']+c['x'])\n",
        "\n",
        "    t14 = And(c['pc']==1, BV2Int(c['x'])*2 > (2**n)-1, p['pc']==4, p['x']==c['x']*2, p['y']==c['y']/2, p['z']==c['z'])\n",
        "    t24 = And(c['pc']==2, BV2Int(c['z'])+BV2Int(c['x']) > (2**n)-1, p['pc']==4, p['x']==c['x'], p['y']==c['y']-1, p['z']==c['z']+c['x']) \n",
        "    return Or([t03, t01, t02, t14, t24, t10, t20])\n",
        "\n",
        "def inv(state):\n",
        "    return state['x']*state['y']+state['z'] == a*b\n"
      ],
      "metadata": {
        "id": "3CXcOiJArxWe"
      },
      "execution_count": 2,
      "outputs": []
    },
    {
      "cell_type": "code",
      "source": [
        "def gen_trace(declare,init,trans,k):\n",
        "\n",
        "    s = Solver()\n",
        "    trace = [declare(i) for i in range(k)]\n",
        "\n",
        "    s.add(init(trace[0]))\n",
        "\n",
        "    for i in range(k-1):\n",
        "      s.add(trans(trace[i],trace[i+1]))\n",
        "\n",
        "    if s.check() == sat:\n",
        "        m = s.model()\n",
        "        for i in range(k):\n",
        "            print(i)\n",
        "            print('pc = ', m[trace[i]['pc']])\n",
        "            print('x = ', m[trace[i]['x']])\n",
        "            print('y = ', m[trace[i]['y']])\n",
        "            print('z = ', m[trace[i]['z']])"
      ],
      "metadata": {
        "id": "1qsgeF5urxrF"
      },
      "execution_count": 3,
      "outputs": []
    },
    {
      "cell_type": "code",
      "execution_count": 4,
      "metadata": {
        "id": "mubmfMtsQNdd"
      },
      "outputs": [],
      "source": [
        "def kinduction(declare,init,trans,inv,k):\n",
        "    \n",
        "    trace = [declare(i) for i in range(k+1)]\n",
        "    \n",
        "    s = Solver()\n",
        "    \n",
        "    s.add(init(trace[0]))\n",
        "    \n",
        "    for i in range(k-1):\n",
        "        s.add(trans(trace[i],trace[i+1]))\n",
        "    \n",
        "    s.add(Or([Not(inv(trace[i])) for i in range(k)]))\n",
        "    \n",
        "    \n",
        "    r = s.check()\n",
        "    if r == sat:\n",
        "        m = s.model()\n",
        "        print(\"A proposição falha no caso base\")\n",
        "        for x in range(k):\n",
        "            for v in trace[x]:\n",
        "                print(v,\"=\",m[trace[x][v]])\n",
        "        return\n",
        "    if r!=unsat:\n",
        "        return\n",
        "    \n",
        "    #provar o passo indutivo\n",
        "    s = Solver()\n",
        "    \n",
        "    s.add(init(trace[0]))\n",
        "    \n",
        "    for i in range(k):\n",
        "        s.add(trans(trace[i],trace[i+1]))\n",
        "        s.add(inv(trace[i]))\n",
        "    \n",
        "    s.add(Not(inv(trace[k])))\n",
        "    \n",
        "    r = s.check()\n",
        "    \n",
        "    if r == sat:\n",
        "        m = s.model()\n",
        "        print(\"A proposição falha no passo k-indutivo que começa em\")\n",
        "        for v in trace[0]:\n",
        "            print(v,\"=\",m[trace[0][v]])\n",
        "        return\n",
        "    if r ==unsat:\n",
        "        print(\"O invariante verifica-se\")\n",
        "        return \n"
      ]
    },
    {
      "cell_type": "code",
      "source": [
        "n = 4 \n",
        "a = 2 \n",
        "b = 1 \n",
        "k = 4\n",
        "gen_trace(declare,init,trans,k)\n",
        "kinduction(declare,init,trans,inv,k)"
      ],
      "metadata": {
        "id": "sHNMRrDuM4XO"
      },
      "execution_count": null,
      "outputs": []
    },
    {
      "cell_type": "code",
      "source": [
        "n = 4\n",
        "a = 0\n",
        "b = 3\n",
        "gen_trace(declare,init,trans,8)\n",
        "kinduction(declare,init,trans,inv,8)"
      ],
      "metadata": {
        "id": "AxLz-8_T75Gz"
      },
      "execution_count": null,
      "outputs": []
    },
    {
      "cell_type": "code",
      "source": [
        "n = 4\n",
        "a = 3\n",
        "b = 0\n",
        "gen_trace(declare,init,trans,2)\n",
        "kinduction(declare,init,trans,inv,2)"
      ],
      "metadata": {
        "id": "hWDx8TKZ74zk"
      },
      "execution_count": null,
      "outputs": []
    },
    {
      "cell_type": "code",
      "source": [
        "n = 11\n",
        "a = 20\n",
        "b = 60\n",
        "gen_trace(declare,init,trans,20)\n",
        "kinduction(declare,init,trans,inv,20)"
      ],
      "metadata": {
        "id": "RQL_Or7ouSyU"
      },
      "execution_count": null,
      "outputs": []
    },
    {
      "cell_type": "code",
      "source": [
        "n = 7\n",
        "a = 40\n",
        "b = 5\n",
        "gen_trace(declare,init,trans,7)\n",
        "kinduction(declare,init,trans,inv,7)"
      ],
      "metadata": {
        "id": "Ky7toLQzKdI-"
      },
      "execution_count": null,
      "outputs": []
    }
  ]
}