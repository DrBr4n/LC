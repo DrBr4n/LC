{
  "nbformat": 4,
  "nbformat_minor": 0,
  "metadata": {
    "colab": {
      "provenance": []
    },
    "kernelspec": {
      "name": "python3",
      "display_name": "Python 3"
    },
    "language_info": {
      "name": "python"
    }
  },
  "cells": [
    {
      "cell_type": "code",
      "execution_count": 1,
      "metadata": {
        "colab": {
          "base_uri": "https://localhost:8080/"
        },
        "id": "km6NKLocoRfn",
        "outputId": "914311d1-6b14-4e27-f22c-6cd6333378cb"
      },
      "outputs": [
        {
          "output_type": "stream",
          "name": "stdout",
          "text": [
            "Looking in indexes: https://pypi.org/simple, https://us-python.pkg.dev/colab-wheels/public/simple/\n",
            "Collecting z3-solver\n",
            "  Downloading z3_solver-4.11.2.0-py2.py3-none-manylinux1_x86_64.whl (53.8 MB)\n",
            "\u001b[K     |████████████████████████████████| 53.8 MB 225 bytes/s \n",
            "\u001b[?25hInstalling collected packages: z3-solver\n",
            "Successfully installed z3-solver-4.11.2.0\n"
          ]
        }
      ],
      "source": [
        "!pip install z3-solver\n",
        "from z3 import *\n",
        "import random as r"
      ]
    },
    {
      "cell_type": "code",
      "source": [
        "n = 7\n",
        "prob = 40"
      ],
      "metadata": {
        "id": "JGTFX115q7Ie"
      },
      "execution_count": 3,
      "outputs": []
    },
    {
      "cell_type": "code",
      "source": [
        "def declare(k):\n",
        "    state = {}\n",
        "    for i in range(n+1):\n",
        "        for j in range(n+1):\n",
        "            state['a%s%s' % (i,j)] = Const('a%s%s' % (i,j), BoolSort())\n",
        "    return state\n",
        "\n",
        "def init(state):\n",
        "\n",
        "    c = (r.randint(4,n-3), r.randint(4,n-3))\n",
        "   \n",
        "    #center cells\n",
        "    center = And(state['a%s%s'%(c[0]-1,c[1])] == True, \n",
        "        state['a%s%s'%(c[0]-1,c[1]+1)] == True, \n",
        "        state['a%s%s'%(c[0]-1,c[1]-1)] == True,\n",
        "        state['a%s%s'%c] == True, \n",
        "        state['a%s%s'%(c[0],c[1]+1)] == True,\n",
        "        state['a%s%s'%(c[0],c[1]-1)] == True,\n",
        "        state['a%s%s'%(c[0]+1,c[1])] == True, \n",
        "        state['a%s%s'%(c[0]+1,c[1]+1)] == True, \n",
        "        state['a%s%s'%(c[0]+1,c[1]-1)] == True)\n",
        "\n",
        "    #cells other than center and border\n",
        "    cells = [state['a%s%s'%(i,j)] for i in range(1, n+1) for j in range(1, n+1) if (i,j) not in [(c[0]-1,c[1]),\n",
        "                                                                                                 (c[0]-1,c[1]+1),\n",
        "                                                                                                 (c[0]-1,c[1]-1),\n",
        "                                                                                                 (c[0],c[1]+1),\n",
        "                                                                                                 (c[0],c[1]-1),\n",
        "                                                                                                 (c[0]+1,c[1]),\n",
        "                                                                                                 (c[0]+1,c[1]+1),\n",
        "                                                                                                 (c[0]+1,c[1]-1),\n",
        "                                                                                                 c]]\n",
        "\n",
        "    #border cells\n",
        "    border = [state['a0%s'%i] for i in range(1,n+1)]\n",
        "    border.extend([state['a%s0'%i] for i in range(1, n+1)])\n",
        "\n",
        "    odd = [True] * prob\n",
        "    odd.extend([False] * (100-prob))\n",
        "\n",
        "    return And(center, Sum(border) == sum(odd), Sum(cells) == 0)\n",
        "\n",
        "def trans(c,p):\n",
        "    born = And(Sum((c[0]-1,c[1]),(c[0]-1,c[1]+1),(c[0]-1,c[1]-1),(c[0],c[1]+1),(c[0],c[1]-1),(c[0]+1,c[1]),(c[0]+1,c[1]+1),(c[0]+1,c[1]-1),c) == 3,\n",
        "               p == True)\n",
        "               \n",
        "    survive = And(Sum((c[0]-1,c[1]),(c[0]-1,c[1]+1),(c[0]-1,c[1]-1),(c[0],c[1]+1),(c[0],c[1]-1),(c[0]+1,c[1]),(c[0]+1,c[1]+1),(c[0]+1,c[1]-1),c) == 2 or 3, p == True)\n",
        "\n",
        "\n",
        "    die = And(Or(Sum((c[0]-1,c[1]),(c[0]-1,c[1]+1),(c[0]-1,c[1]-1),(c[0],c[1]+1),(c[0],c[1]-1),(c[0]+1,c[1]),(c[0]+1,c[1]+1),(c[0]+1,c[1]-1),c) < 2,\n",
        "                 Sum((c[0]-1,c[1]),(c[0]-1,c[1]+1),(c[0]-1,c[1]-1),(c[0],c[1]+1),(c[0],c[1]-1),(c[0]+1,c[1]),(c[0]+1,c[1]+1),(c[0]+1,c[1]-1),c) > 3),\n",
        "               p == False)\n",
        "    \n",
        "    return Or([born, survive, die]) "
      ],
      "metadata": {
        "id": "vGie4mxV4K-9"
      },
      "execution_count": 8,
      "outputs": []
    },
    {
      "cell_type": "code",
      "source": [
        "def gen_trace(declare,init,trans,k):\n",
        "\n",
        "    s = Solver()\n",
        "    trace = [declare(i) for i in range(k)]\n",
        "\n",
        "    s.add(init(trace[0]))\n",
        "    print(trace[0])\n",
        "\n",
        "    for i in range(k-1):\n",
        "        for cell in trace[i]:\n",
        "            s.add(cell,trace[i+1])\n",
        "\n",
        "    if s.check() == sat:\n",
        "        m = s.model()\n",
        "        print(\"model is sat\")\n"
      ],
      "metadata": {
        "id": "06p6rYD5ErBw"
      },
      "execution_count": 5,
      "outputs": []
    },
    {
      "cell_type": "code",
      "source": [
        "gen_trace(declare,init,trans,20)"
      ],
      "metadata": {
        "colab": {
          "base_uri": "https://localhost:8080/",
          "height": 835
        },
        "id": "6dUxQDD7U58a",
        "outputId": "2e656a45-47b6-4c10-b9fd-e79914f73a44"
      },
      "execution_count": 6,
      "outputs": [
        {
          "output_type": "stream",
          "name": "stdout",
          "text": [
            "{'a00': a00, 'a01': a01, 'a02': a02, 'a03': a03, 'a04': a04, 'a05': a05, 'a06': a06, 'a07': a07, 'a10': a10, 'a11': a11, 'a12': a12, 'a13': a13, 'a14': a14, 'a15': a15, 'a16': a16, 'a17': a17, 'a20': a20, 'a21': a21, 'a22': a22, 'a23': a23, 'a24': a24, 'a25': a25, 'a26': a26, 'a27': a27, 'a30': a30, 'a31': a31, 'a32': a32, 'a33': a33, 'a34': a34, 'a35': a35, 'a36': a36, 'a37': a37, 'a40': a40, 'a41': a41, 'a42': a42, 'a43': a43, 'a44': a44, 'a45': a45, 'a46': a46, 'a47': a47, 'a50': a50, 'a51': a51, 'a52': a52, 'a53': a53, 'a54': a54, 'a55': a55, 'a56': a56, 'a57': a57, 'a60': a60, 'a61': a61, 'a62': a62, 'a63': a63, 'a64': a64, 'a65': a65, 'a66': a66, 'a67': a67, 'a70': a70, 'a71': a71, 'a72': a72, 'a73': a73, 'a74': a74, 'a75': a75, 'a76': a76, 'a77': a77}\n"
          ]
        },
        {
          "output_type": "error",
          "ename": "Z3Exception",
          "evalue": "ignored",
          "traceback": [
            "\u001b[0;31m---------------------------------------------------------------------------\u001b[0m",
            "\u001b[0;31mZ3Exception\u001b[0m                               Traceback (most recent call last)",
            "\u001b[0;32m<ipython-input-6-4666062609ea>\u001b[0m in \u001b[0;36m<module>\u001b[0;34m\u001b[0m\n\u001b[0;32m----> 1\u001b[0;31m \u001b[0mgen_trace\u001b[0m\u001b[0;34m(\u001b[0m\u001b[0mdeclare\u001b[0m\u001b[0;34m,\u001b[0m\u001b[0minit\u001b[0m\u001b[0;34m,\u001b[0m\u001b[0mtrans\u001b[0m\u001b[0;34m,\u001b[0m\u001b[0;36m20\u001b[0m\u001b[0;34m)\u001b[0m\u001b[0;34m\u001b[0m\u001b[0;34m\u001b[0m\u001b[0m\n\u001b[0m",
            "\u001b[0;32m<ipython-input-5-724c3b71f4c7>\u001b[0m in \u001b[0;36mgen_trace\u001b[0;34m(declare, init, trans, k)\u001b[0m\n\u001b[1;32m      9\u001b[0m     \u001b[0;32mfor\u001b[0m \u001b[0mi\u001b[0m \u001b[0;32min\u001b[0m \u001b[0mrange\u001b[0m\u001b[0;34m(\u001b[0m\u001b[0mk\u001b[0m\u001b[0;34m-\u001b[0m\u001b[0;36m1\u001b[0m\u001b[0;34m)\u001b[0m\u001b[0;34m:\u001b[0m\u001b[0;34m\u001b[0m\u001b[0;34m\u001b[0m\u001b[0m\n\u001b[1;32m     10\u001b[0m         \u001b[0;32mfor\u001b[0m \u001b[0mcell\u001b[0m \u001b[0;32min\u001b[0m \u001b[0mtrace\u001b[0m\u001b[0;34m[\u001b[0m\u001b[0mi\u001b[0m\u001b[0;34m]\u001b[0m\u001b[0;34m:\u001b[0m\u001b[0;34m\u001b[0m\u001b[0;34m\u001b[0m\u001b[0m\n\u001b[0;32m---> 11\u001b[0;31m             \u001b[0ms\u001b[0m\u001b[0;34m.\u001b[0m\u001b[0madd\u001b[0m\u001b[0;34m(\u001b[0m\u001b[0mcell\u001b[0m\u001b[0;34m,\u001b[0m\u001b[0mtrace\u001b[0m\u001b[0;34m[\u001b[0m\u001b[0mi\u001b[0m\u001b[0;34m+\u001b[0m\u001b[0;36m1\u001b[0m\u001b[0;34m]\u001b[0m\u001b[0;34m)\u001b[0m\u001b[0;34m\u001b[0m\u001b[0;34m\u001b[0m\u001b[0m\n\u001b[0m\u001b[1;32m     12\u001b[0m \u001b[0;34m\u001b[0m\u001b[0m\n\u001b[1;32m     13\u001b[0m     \u001b[0;32mif\u001b[0m \u001b[0ms\u001b[0m\u001b[0;34m.\u001b[0m\u001b[0mcheck\u001b[0m\u001b[0;34m(\u001b[0m\u001b[0;34m)\u001b[0m \u001b[0;34m==\u001b[0m \u001b[0msat\u001b[0m\u001b[0;34m:\u001b[0m\u001b[0;34m\u001b[0m\u001b[0;34m\u001b[0m\u001b[0m\n",
            "\u001b[0;32m/usr/local/lib/python3.7/dist-packages/z3/z3.py\u001b[0m in \u001b[0;36madd\u001b[0;34m(self, *args)\u001b[0m\n\u001b[1;32m   7026\u001b[0m         \u001b[0;34m[\u001b[0m\u001b[0mx\u001b[0m \u001b[0;34m>\u001b[0m \u001b[0;36m0\u001b[0m\u001b[0;34m,\u001b[0m \u001b[0mx\u001b[0m \u001b[0;34m<\u001b[0m \u001b[0;36m2\u001b[0m\u001b[0;34m]\u001b[0m\u001b[0;34m\u001b[0m\u001b[0;34m\u001b[0m\u001b[0m\n\u001b[1;32m   7027\u001b[0m         \"\"\"\n\u001b[0;32m-> 7028\u001b[0;31m         \u001b[0mself\u001b[0m\u001b[0;34m.\u001b[0m\u001b[0massert_exprs\u001b[0m\u001b[0;34m(\u001b[0m\u001b[0;34m*\u001b[0m\u001b[0margs\u001b[0m\u001b[0;34m)\u001b[0m\u001b[0;34m\u001b[0m\u001b[0;34m\u001b[0m\u001b[0m\n\u001b[0m\u001b[1;32m   7029\u001b[0m \u001b[0;34m\u001b[0m\u001b[0m\n\u001b[1;32m   7030\u001b[0m     \u001b[0;32mdef\u001b[0m \u001b[0m__iadd__\u001b[0m\u001b[0;34m(\u001b[0m\u001b[0mself\u001b[0m\u001b[0;34m,\u001b[0m \u001b[0mfml\u001b[0m\u001b[0;34m)\u001b[0m\u001b[0;34m:\u001b[0m\u001b[0;34m\u001b[0m\u001b[0;34m\u001b[0m\u001b[0m\n",
            "\u001b[0;32m/usr/local/lib/python3.7/dist-packages/z3/z3.py\u001b[0m in \u001b[0;36massert_exprs\u001b[0;34m(self, *args)\u001b[0m\n\u001b[1;32m   7014\u001b[0m                     \u001b[0mZ3_solver_assert\u001b[0m\u001b[0;34m(\u001b[0m\u001b[0mself\u001b[0m\u001b[0;34m.\u001b[0m\u001b[0mctx\u001b[0m\u001b[0;34m.\u001b[0m\u001b[0mref\u001b[0m\u001b[0;34m(\u001b[0m\u001b[0;34m)\u001b[0m\u001b[0;34m,\u001b[0m \u001b[0mself\u001b[0m\u001b[0;34m.\u001b[0m\u001b[0msolver\u001b[0m\u001b[0;34m,\u001b[0m \u001b[0mf\u001b[0m\u001b[0;34m.\u001b[0m\u001b[0mas_ast\u001b[0m\u001b[0;34m(\u001b[0m\u001b[0;34m)\u001b[0m\u001b[0;34m)\u001b[0m\u001b[0;34m\u001b[0m\u001b[0;34m\u001b[0m\u001b[0m\n\u001b[1;32m   7015\u001b[0m             \u001b[0;32melse\u001b[0m\u001b[0;34m:\u001b[0m\u001b[0;34m\u001b[0m\u001b[0;34m\u001b[0m\u001b[0m\n\u001b[0;32m-> 7016\u001b[0;31m                 \u001b[0marg\u001b[0m \u001b[0;34m=\u001b[0m \u001b[0ms\u001b[0m\u001b[0;34m.\u001b[0m\u001b[0mcast\u001b[0m\u001b[0;34m(\u001b[0m\u001b[0marg\u001b[0m\u001b[0;34m)\u001b[0m\u001b[0;34m\u001b[0m\u001b[0;34m\u001b[0m\u001b[0m\n\u001b[0m\u001b[1;32m   7017\u001b[0m                 \u001b[0mZ3_solver_assert\u001b[0m\u001b[0;34m(\u001b[0m\u001b[0mself\u001b[0m\u001b[0;34m.\u001b[0m\u001b[0mctx\u001b[0m\u001b[0;34m.\u001b[0m\u001b[0mref\u001b[0m\u001b[0;34m(\u001b[0m\u001b[0;34m)\u001b[0m\u001b[0;34m,\u001b[0m \u001b[0mself\u001b[0m\u001b[0;34m.\u001b[0m\u001b[0msolver\u001b[0m\u001b[0;34m,\u001b[0m \u001b[0marg\u001b[0m\u001b[0;34m.\u001b[0m\u001b[0mas_ast\u001b[0m\u001b[0;34m(\u001b[0m\u001b[0;34m)\u001b[0m\u001b[0;34m)\u001b[0m\u001b[0;34m\u001b[0m\u001b[0;34m\u001b[0m\u001b[0m\n\u001b[1;32m   7018\u001b[0m \u001b[0;34m\u001b[0m\u001b[0m\n",
            "\u001b[0;32m/usr/local/lib/python3.7/dist-packages/z3/z3.py\u001b[0m in \u001b[0;36mcast\u001b[0;34m(self, val)\u001b[0m\n\u001b[1;32m   1526\u001b[0m             \u001b[0;32mif\u001b[0m \u001b[0;32mnot\u001b[0m \u001b[0mis_expr\u001b[0m\u001b[0;34m(\u001b[0m\u001b[0mval\u001b[0m\u001b[0;34m)\u001b[0m\u001b[0;34m:\u001b[0m\u001b[0;34m\u001b[0m\u001b[0;34m\u001b[0m\u001b[0m\n\u001b[1;32m   1527\u001b[0m                 \u001b[0mmsg\u001b[0m \u001b[0;34m=\u001b[0m \u001b[0;34m\"True, False or Z3 Boolean expression expected. Received %s of type %s\"\u001b[0m\u001b[0;34m\u001b[0m\u001b[0;34m\u001b[0m\u001b[0m\n\u001b[0;32m-> 1528\u001b[0;31m                 \u001b[0m_z3_assert\u001b[0m\u001b[0;34m(\u001b[0m\u001b[0mis_expr\u001b[0m\u001b[0;34m(\u001b[0m\u001b[0mval\u001b[0m\u001b[0;34m)\u001b[0m\u001b[0;34m,\u001b[0m \u001b[0mmsg\u001b[0m \u001b[0;34m%\u001b[0m \u001b[0;34m(\u001b[0m\u001b[0mval\u001b[0m\u001b[0;34m,\u001b[0m \u001b[0mtype\u001b[0m\u001b[0;34m(\u001b[0m\u001b[0mval\u001b[0m\u001b[0;34m)\u001b[0m\u001b[0;34m)\u001b[0m\u001b[0;34m)\u001b[0m\u001b[0;34m\u001b[0m\u001b[0;34m\u001b[0m\u001b[0m\n\u001b[0m\u001b[1;32m   1529\u001b[0m             \u001b[0;32mif\u001b[0m \u001b[0;32mnot\u001b[0m \u001b[0mself\u001b[0m\u001b[0;34m.\u001b[0m\u001b[0meq\u001b[0m\u001b[0;34m(\u001b[0m\u001b[0mval\u001b[0m\u001b[0;34m.\u001b[0m\u001b[0msort\u001b[0m\u001b[0;34m(\u001b[0m\u001b[0;34m)\u001b[0m\u001b[0;34m)\u001b[0m\u001b[0;34m:\u001b[0m\u001b[0;34m\u001b[0m\u001b[0;34m\u001b[0m\u001b[0m\n\u001b[1;32m   1530\u001b[0m                 \u001b[0m_z3_assert\u001b[0m\u001b[0;34m(\u001b[0m\u001b[0mself\u001b[0m\u001b[0;34m.\u001b[0m\u001b[0meq\u001b[0m\u001b[0;34m(\u001b[0m\u001b[0mval\u001b[0m\u001b[0;34m.\u001b[0m\u001b[0msort\u001b[0m\u001b[0;34m(\u001b[0m\u001b[0;34m)\u001b[0m\u001b[0;34m)\u001b[0m\u001b[0;34m,\u001b[0m \u001b[0;34m\"Value cannot be converted into a Z3 Boolean value\"\u001b[0m\u001b[0;34m)\u001b[0m\u001b[0;34m\u001b[0m\u001b[0;34m\u001b[0m\u001b[0m\n",
            "\u001b[0;32m/usr/local/lib/python3.7/dist-packages/z3/z3.py\u001b[0m in \u001b[0;36m_z3_assert\u001b[0;34m(cond, msg)\u001b[0m\n\u001b[1;32m    105\u001b[0m \u001b[0;32mdef\u001b[0m \u001b[0m_z3_assert\u001b[0m\u001b[0;34m(\u001b[0m\u001b[0mcond\u001b[0m\u001b[0;34m,\u001b[0m \u001b[0mmsg\u001b[0m\u001b[0;34m)\u001b[0m\u001b[0;34m:\u001b[0m\u001b[0;34m\u001b[0m\u001b[0;34m\u001b[0m\u001b[0m\n\u001b[1;32m    106\u001b[0m     \u001b[0;32mif\u001b[0m \u001b[0;32mnot\u001b[0m \u001b[0mcond\u001b[0m\u001b[0;34m:\u001b[0m\u001b[0;34m\u001b[0m\u001b[0;34m\u001b[0m\u001b[0m\n\u001b[0;32m--> 107\u001b[0;31m         \u001b[0;32mraise\u001b[0m \u001b[0mZ3Exception\u001b[0m\u001b[0;34m(\u001b[0m\u001b[0mmsg\u001b[0m\u001b[0;34m)\u001b[0m\u001b[0;34m\u001b[0m\u001b[0;34m\u001b[0m\u001b[0m\n\u001b[0m\u001b[1;32m    108\u001b[0m \u001b[0;34m\u001b[0m\u001b[0m\n\u001b[1;32m    109\u001b[0m \u001b[0;34m\u001b[0m\u001b[0m\n",
            "\u001b[0;31mZ3Exception\u001b[0m: True, False or Z3 Boolean expression expected. Received a00 of type <class 'str'>"
          ]
        }
      ]
    },
    {
      "cell_type": "code",
      "source": [],
      "metadata": {
        "id": "X3AzFVTysSPK"
      },
      "execution_count": null,
      "outputs": []
    }
  ]
}