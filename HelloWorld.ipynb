{
 "cells": [
  {
   "cell_type": "code",
   "execution_count": 23,
   "id": "4293ce44",
   "metadata": {},
   "outputs": [
    {
     "name": "stdout",
     "output_type": "stream",
     "text": [
      "Serialization of the formula:\n",
      "((((1 <= h) & (h <= 10)) & ((1 <= e) & (e <= 10)) & ((1 <= l) & (l <= 10)) & ((1 <= o) & (o <= 10)) & ((1 <= w) & (w <= 10)) & ((1 <= r) & (r <= 10)) & ((1 <= d) & (d <= 10))) & (((h + e + l + l + o) = (w + o + r + l + d)) & ((h + e + l + l + o) = 13)))\n",
      "h = 1\n",
      "e = 1\n",
      "l = 1\n",
      "o = 9\n",
      "w = 1\n",
      "r = 1\n",
      "d = 1\n"
     ]
    }
   ],
   "source": [
    "from pysmt.shortcuts import Symbol, LE, GE, Int, And, Equals, Plus, Solver\n",
    "from pysmt.typing import INT\n",
    "\n",
    "#h = Symbol(\"H\", INT)\n",
    "\n",
    "## domain = (1 <= h) & (10 >= h)\n",
    "#domain = And(LE(Int(1), h), GE(Int(10), h))\n",
    "\n",
    "hello = [Symbol(c,INT) for c in \"hello\"]\n",
    "world = [Symbol(c,INT) for c in \"world\"]\n",
    "\n",
    "letters = set(hello+world)\n",
    "\n",
    "domains = And(\n",
    "            And(LE(Int(1),c), \n",
    "                GE(Int(10),c)) for c in letters)\n",
    "\n",
    "sum_hello = Plus(hello)\n",
    "sum_world = Plus(world)\n",
    "\n",
    "problem = And(Equals(sum_hello, sum_world), Equals(sum_hello, Int(13)))\n",
    "\n",
    "formula = And(domains, problem)\n",
    "\n",
    "print(\"Serialization of the formula:\")\n",
    "print(formula)\n",
    "\n",
    "with Solver(logic=\"QF_LIA\") as s:\n",
    "    s.add_assertion(domains)\n",
    "    if not s.solve():\n",
    "        print(\"Domain is not SAT!!!\")\n",
    "        exit()\n",
    "    s.add_assertion(problem)\n",
    "    if s.solve():\n",
    "        for l in letters:\n",
    "            print(\"%s = %s\" %(l, s.get_value(l)))\n",
    "    else:\n",
    "        print(\"No solution found\")"
   ]
  },
  {
   "cell_type": "code",
   "execution_count": 5,
   "id": "3318c750",
   "metadata": {},
   "outputs": [
    {
     "data": {
      "text/plain": [
       "h"
      ]
     },
     "execution_count": 5,
     "metadata": {},
     "output_type": "execute_result"
    }
   ],
   "source": []
  },
  {
   "cell_type": "code",
   "execution_count": null,
   "id": "9491139b",
   "metadata": {},
   "outputs": [],
   "source": [
    "h = 1\n",
    "e = 1\n",
    "l = 1\n",
    "o = 9\n",
    "w = 1\n",
    "r = 1\n",
    "d = 1"
   ]
  }
 ],
 "metadata": {
  "kernelspec": {
   "display_name": "Python 3 (ipykernel)",
   "language": "python",
   "name": "python3"
  },
  "language_info": {
   "codemirror_mode": {
    "name": "ipython",
    "version": 3
   },
   "file_extension": ".py",
   "mimetype": "text/x-python",
   "name": "python",
   "nbconvert_exporter": "python",
   "pygments_lexer": "ipython3",
   "version": "3.10.4"
  }
 },
 "nbformat": 4,
 "nbformat_minor": 5
}
